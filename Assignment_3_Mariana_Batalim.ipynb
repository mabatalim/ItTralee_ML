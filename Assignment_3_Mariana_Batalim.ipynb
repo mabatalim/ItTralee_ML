{
  "nbformat": 4,
  "nbformat_minor": 0,
  "metadata": {
    "coursera": {
      "course_slug": "python-machine-learning",
      "graded_item_id": "5yX9Z",
      "launcher_item_id": "eqnV3",
      "part_id": "Msnj0"
    },
    "kernelspec": {
      "display_name": "Python 3",
      "language": "python",
      "name": "python3"
    },
    "language_info": {
      "codemirror_mode": {
        "name": "ipython",
        "version": 3
      },
      "file_extension": ".py",
      "mimetype": "text/x-python",
      "name": "python",
      "nbconvert_exporter": "python",
      "pygments_lexer": "ipython3",
      "version": "3.5.2"
    },
    "colab": {
      "name": "Assignment 3_Mariana_Batalim.ipynb",
      "provenance": [],
      "collapsed_sections": [],
      "include_colab_link": true
    }
  },
  "cells": [
    {
      "cell_type": "markdown",
      "metadata": {
        "id": "view-in-github",
        "colab_type": "text"
      },
      "source": [
        "<a href=\"https://colab.research.google.com/github/mabatalim/ItTralee_ML/blob/main/Assignment_3_Mariana_Batalim.ipynb\" target=\"_parent\"><img src=\"https://colab.research.google.com/assets/colab-badge.svg\" alt=\"Open In Colab\"/></a>"
      ]
    },
    {
      "cell_type": "markdown",
      "metadata": {
        "id": "aflJ9-KzoJkf"
      },
      "source": [
        "---\n",
        "\n",
        "_You are currently looking at **version 1.1** of this notebook. To download notebooks and datafiles, as well as get help on Jupyter notebooks in the Coursera platform, visit the [Jupyter Notebook FAQ](https://www.coursera.org/learn/python-machine-learning/resources/bANLa) course resource._\n",
        "\n",
        "---"
      ]
    },
    {
      "cell_type": "markdown",
      "metadata": {
        "id": "U_wPwSUMoJkj"
      },
      "source": [
        "# Assignment 3 - Evaluation\n",
        "\n",
        "In this assignment you will train several models and evaluate how effectively they predict instances of fraud using data based on [this dataset from Kaggle](https://www.kaggle.com/dalpozz/creditcardfraud).\n",
        " \n",
        "Each row in `fraud_data.csv` corresponds to a credit card transaction. Features include confidential variables `V1` through `V28` as well as `Amount` which is the amount of the transaction. \n",
        " \n",
        "The target is stored in the `class` column, where a value of 1 corresponds to an instance of fraud and 0 corresponds to an instance of not fraud."
      ]
    },
    {
      "cell_type": "code",
      "metadata": {
        "id": "eVczq68AoJkl"
      },
      "source": [
        "import numpy as np\n",
        "import pandas as pd"
      ],
      "execution_count": 1,
      "outputs": []
    },
    {
      "cell_type": "markdown",
      "metadata": {
        "id": "GRog5nh3oJko"
      },
      "source": [
        "### Question 1\n",
        "Import the data from `fraud_data.csv`. What percentage of the observations in the dataset are instances of fraud?\n",
        "\n",
        "*This function should return a float between 0 and 1.* "
      ]
    },
    {
      "cell_type": "code",
      "metadata": {
        "id": "lLyH0HuDoJkp"
      },
      "source": [
        "def answer_one():\n",
        "    \n",
        "    # Your code here\n",
        "    df = pd.read_csv('https://raw.githubusercontent.com/niallomahony93/MLDIoT_Practical1/master/Assignment2/fraud_data.csv')\n",
        "    return df['Class'].sum()/len(df['Class'])\n",
        "    #return df.head()"
      ],
      "execution_count": 2,
      "outputs": []
    },
    {
      "cell_type": "code",
      "metadata": {
        "id": "7tips_GNoJkt",
        "outputId": "2b2fe03c-ec78-41d0-e2ff-e159abe0b001",
        "colab": {
          "base_uri": "https://localhost:8080/"
        }
      },
      "source": [
        "answer_one()"
      ],
      "execution_count": null,
      "outputs": [
        {
          "output_type": "execute_result",
          "data": {
            "text/plain": [
              "0.016410823768035772"
            ]
          },
          "metadata": {
            "tags": []
          },
          "execution_count": 39
        }
      ]
    },
    {
      "cell_type": "code",
      "metadata": {
        "id": "-Ow9YeAuoJkv"
      },
      "source": [
        "# Use X_train, X_test, y_train, y_test for all of the following questions\n",
        "from sklearn.model_selection import train_test_split\n",
        "\n",
        "df = pd.read_csv('https://raw.githubusercontent.com/niallomahony93/MLDIoT_Practical1/master/Assignment2/fraud_data.csv')\n",
        "\n",
        "X = df.iloc[:,:-1]\n",
        "y = df.iloc[:,-1]\n",
        "\n",
        "X_train, X_test, y_train, y_test = train_test_split(X, y, random_state=0)"
      ],
      "execution_count": 4,
      "outputs": []
    },
    {
      "cell_type": "markdown",
      "metadata": {
        "id": "atDsEHSooJkz"
      },
      "source": [
        "### Question 2\n",
        "\n",
        "Using `X_train`, `X_test`, `y_train`, and `y_test` (as defined above), train a dummy classifier that classifies everything as the majority class of the training data. What is the accuracy of this classifier? What is the recall?\n",
        "\n",
        "*This function should a return a tuple with two floats, i.e. `(accuracy score, recall score)`.*"
      ]
    },
    {
      "cell_type": "code",
      "metadata": {
        "id": "OEBEjdCcoJk0"
      },
      "source": [
        "def answer_two():\n",
        "    from sklearn.dummy import DummyClassifier\n",
        "    from sklearn.metrics import recall_score\n",
        "    from sklearn.metrics import accuracy_score\n",
        "    \n",
        "    # to get accuracy_score, for example, call accuracy_score(y_predicted, y_test)\n",
        "    dmc = DummyClassifier(strategy='most_frequent')\n",
        "    dmc.fit(X_train, y_train)\n",
        "    y_p = dmc.predict(X_test)\n",
        "    acc = accuracy_score(y_p, y_test)\n",
        "    recall = recall_score(y_p, y_test)\n",
        "    return (acc, recall)"
      ],
      "execution_count": 5,
      "outputs": []
    },
    {
      "cell_type": "code",
      "metadata": {
        "id": "m0hf6LFMoJk4",
        "outputId": "03174d9c-5b0c-4bdc-dce8-ff755bd6d5f9",
        "colab": {
          "base_uri": "https://localhost:8080/"
        }
      },
      "source": [
        "answer_two()"
      ],
      "execution_count": 6,
      "outputs": [
        {
          "output_type": "stream",
          "text": [
            "/usr/local/lib/python3.6/dist-packages/sklearn/metrics/_classification.py:1272: UndefinedMetricWarning: Recall is ill-defined and being set to 0.0 due to no true samples. Use `zero_division` parameter to control this behavior.\n",
            "  _warn_prf(average, modifier, msg_start, len(result))\n"
          ],
          "name": "stderr"
        },
        {
          "output_type": "execute_result",
          "data": {
            "text/plain": [
              "(0.9852507374631269, 0.0)"
            ]
          },
          "metadata": {
            "tags": []
          },
          "execution_count": 6
        }
      ]
    },
    {
      "cell_type": "markdown",
      "metadata": {
        "id": "NQFzRC45oJk-"
      },
      "source": [
        "### Question 3\n",
        "\n",
        "Using X_train, X_test, y_train, y_test (as defined above), train a SVC classifer using the default parameters. What is the accuracy, recall, and precision of this classifier?\n",
        "\n",
        "*This function should a return a tuple with three floats, i.e. `(accuracy score, recall score, precision score)`.*"
      ]
    },
    {
      "cell_type": "code",
      "metadata": {
        "id": "XQ8BM3tZoJk_"
      },
      "source": [
        "def answer_three():\n",
        "    from sklearn.metrics import recall_score, precision_score, accuracy_score\n",
        "    from sklearn.svm import SVC\n",
        "\n",
        "    svc = SVC()\n",
        "    svc = svc.fit(X_train, y_train)\n",
        "    y_p = svc.predict(X_test)\n",
        "    acc = accuracy_score(y_p, y_test)\n",
        "    recall = recall_score(y_p, y_test)\n",
        "    precision = precision_score(y_p, y_test)\n",
        "    return (acc, recall, precision)"
      ],
      "execution_count": 7,
      "outputs": []
    },
    {
      "cell_type": "code",
      "metadata": {
        "id": "ZPzz_XwzoJlC",
        "outputId": "3b3ad538-720d-4cb2-b61c-c4221ba45021",
        "colab": {
          "base_uri": "https://localhost:8080/"
        }
      },
      "source": [
        "answer_three()"
      ],
      "execution_count": 8,
      "outputs": [
        {
          "output_type": "execute_result",
          "data": {
            "text/plain": [
              "(0.9900442477876106, 0.9333333333333333, 0.35)"
            ]
          },
          "metadata": {
            "tags": []
          },
          "execution_count": 8
        }
      ]
    },
    {
      "cell_type": "markdown",
      "metadata": {
        "id": "_1p4VQuroJlG"
      },
      "source": [
        "### Question 4\n",
        "\n",
        "Using the SVC classifier with parameters `{'C': 1e9, 'gamma': 1e-07}`, what is the confusion matrix when using a threshold of -220 on the decision function. Use X_test and y_test.\n",
        "\n",
        "*This function should return a confusion matrix, a 2x2 numpy array with 4 integers.*"
      ]
    },
    {
      "cell_type": "code",
      "metadata": {
        "id": "ZPtdRkCVoJlH"
      },
      "source": [
        "def answer_four():\n",
        "    from sklearn.metrics import confusion_matrix\n",
        "    from sklearn.svm import SVC\n",
        "    svc = SVC(C = 1e9, gamma = 1e-07 )\n",
        "    svc = svc.fit(X_train, y_train)\n",
        "    scores = svc.decision_function(X_test)\n",
        "    # implement a threshold: y_pred_with_threshold = scores > -220\n",
        "    y_pred_with_threshold = scores > -220\n",
        "    # implement a confusion matrix: confusion = confusion_matrix(y_test, y_pred_with_threshold)\n",
        "    confusion = confusion_matrix(y_test, y_pred_with_threshold)\n",
        "    return confusion"
      ],
      "execution_count": 9,
      "outputs": []
    },
    {
      "cell_type": "code",
      "metadata": {
        "id": "Oec1Wc9FoJlL",
        "outputId": "56c86422-1a59-4868-efcc-72cb54facded",
        "colab": {
          "base_uri": "https://localhost:8080/"
        }
      },
      "source": [
        "answer_four()"
      ],
      "execution_count": 10,
      "outputs": [
        {
          "output_type": "execute_result",
          "data": {
            "text/plain": [
              "array([[5320,   24],\n",
              "       [  14,   66]])"
            ]
          },
          "metadata": {
            "tags": []
          },
          "execution_count": 10
        }
      ]
    },
    {
      "cell_type": "markdown",
      "metadata": {
        "id": "dkzJx47ooJlQ"
      },
      "source": [
        "### Question 5\n",
        "\n",
        "Train a logisitic regression classifier with default parameters using X_train and y_train.\n",
        "\n",
        "For the logisitic regression classifier, create a precision recall curve and a roc curve using y_test and the probability estimates for X_test (probability it is fraud).\n",
        "\n",
        "Repeat for a second classifier of your choice, e.g. random forest, SVC, etc.\n",
        "\n",
        "Compare the plots of the PR curve and ROC curve for each against each other.\n",
        "\n",
        "For the Logistic Regression model:\n",
        "\n",
        "Looking at the precision recall curve, what is the recall when the precision is `0.75`?\n",
        "\n",
        "Looking at the roc curve, what is the true positive rate when the false positive rate is `0.16`?\n",
        "\n",
        "*This function should return a tuple with two floats, i.e. `(recall, true positive rate)`.*"
      ]
    },
    {
      "cell_type": "code",
      "metadata": {
        "id": "oNo8kaACv2ui"
      },
      "source": [
        "from sklearn.linear_model import LogisticRegression\n",
        "lr = LogisticRegression(max_iter = 10000)\n",
        "lr.fit(X_train, y_train)\n",
        "y_scores_lr = lr.decision_function(X_test)"
      ],
      "execution_count": 11,
      "outputs": []
    },
    {
      "cell_type": "code",
      "metadata": {
        "id": "ueW1NvQyrBx-"
      },
      "source": [
        "#create a second classifier of your choice -> RandomForestClassifier \n",
        "from sklearn.ensemble import RandomForestClassifier\n",
        "rfc = RandomForestClassifier()\n",
        "rfc = rfc.fit(X_train, y_train)\n",
        "y_scores_rfc = rfc.predict_proba(X_test)[:, 1]"
      ],
      "execution_count": 14,
      "outputs": []
    },
    {
      "cell_type": "code",
      "metadata": {
        "id": "oVAL85hdoJlR",
        "outputId": "0883abe9-79e3-4d6c-df88-c9d070e8baab",
        "colab": {
          "base_uri": "https://localhost:8080/",
          "height": 324
        }
      },
      "source": [
        "def draw_pr_curve():\n",
        "    from sklearn.metrics import precision_recall_curve\n",
        "    precision, recall, thresholds = precision_recall_curve(y_test, y_scores_lr)\n",
        "    closest_zero = np.argmin(np.abs(thresholds))\n",
        "    closest_zero_p = precision[closest_zero]\n",
        "    closest_zero_r = recall[closest_zero]\n",
        "\n",
        "    #repeat for second classifier (give different names)\n",
        "    precision_rfc, recall_rfc, thresholds_rfc = precision_recall_curve(y_test, y_scores_rfc)\n",
        "    closest_zero_rfc = np.argmin(np.abs(thresholds))\n",
        "    closest_zero_p_rfc = precision[closest_zero_rfc]\n",
        "    closest_zero_r_rfc = recall[closest_zero_rfc]\n",
        "    import matplotlib.pyplot as plt\n",
        "    \n",
        "    # Your code to plot curve here\n",
        "    import matplotlib.pyplot as plt\n",
        "    plt.figure()\n",
        "    plt.xlim([0.0, 1.01])\n",
        "    plt.ylim([0.0, 1.01])\n",
        "    plt.plot(recall, precision, label='Precision-Recall Curve')\n",
        "    plt.plot(recall_rfc, precision_rfc, label='Precision-Recall Curve')\n",
        "\n",
        "    #repeat for second classifier\n",
        "\n",
        "    plt.plot(closest_zero_r, closest_zero_p, 'o', markersize = 12, fillstyle = 'none', c='r', mew=3)\n",
        "    \n",
        "    plt.xlabel('Recall', fontsize=16)\n",
        "    plt.ylabel('Precision', fontsize=16)\n",
        "    plt.axes().set_aspect('equal')\n",
        "    plt.show()\n",
        "\n",
        "draw_pr_curve()"
      ],
      "execution_count": 15,
      "outputs": [
        {
          "output_type": "stream",
          "text": [
            "/usr/local/lib/python3.6/dist-packages/ipykernel_launcher.py:31: MatplotlibDeprecationWarning: Adding an axes using the same arguments as a previous axes currently reuses the earlier instance.  In a future version, a new instance will always be created and returned.  Meanwhile, this warning can be suppressed, and the future behavior ensured, by passing a unique label to each axes instance.\n"
          ],
          "name": "stderr"
        },
        {
          "output_type": "display_data",
          "data": {
            "image/png": "[encoded data removed]",
            "text/plain": [
              "<Figure size 432x288 with 1 Axes>"
            ]
          },
          "metadata": {
            "tags": [],
            "needs_background": "light"
          }
        }
      ]
    },
    {
      "cell_type": "code",
      "metadata": {
        "id": "9iUWB3reoJlU"
      },
      "source": [
        "def answer_five():\n",
        "    return (0.84, 0.92)"
      ],
      "execution_count": 22,
      "outputs": []
    },
    {
      "cell_type": "code",
      "metadata": {
        "id": "HbUnxNkAFbMJ",
        "outputId": "b3c13bc3-deac-4140-e7bd-2d54e92b2446",
        "colab": {
          "base_uri": "https://localhost:8080/"
        }
      },
      "source": [
        "def answer_five():\n",
        "    # FYI heres how to find the exact values programatically\n",
        "    from sklearn.linear_model import LogisticRegression\n",
        "    from sklearn.metrics import precision_recall_curve\n",
        "    from sklearn.metrics import roc_curve\n",
        "    lr = LogisticRegression().fit(X_train, y_train)\n",
        "    y_scores_lr = lr.fit(X_train, y_train).decision_function(X_test)\n",
        "    #lr_predicted = lr.predict(X_test)\n",
        "    precision, recall, thresholds = precision_recall_curve(y_test, y_scores_lr)\n",
        "    closest_zero_p = np.argmin(np.abs(precision-0.75))\n",
        "    #closest_zero_p = precision[closest_zero]\n",
        "    closest_zero_r = recall[closest_zero_p]\n",
        "    #print(closest_zero_r)\n",
        "    fpr_lr, tpr_lr, _ = roc_curve(y_test, y_scores_lr)\n",
        "    #roc_auc_lr = auc(fpr_lr, tpr_lr)\n",
        "    closest_zero_fpr_lr = np.argmin(np.abs(fpr_lr - 0.16))\n",
        "    #closest_zero_p = precision[closest_zero]\n",
        "    closest_zero_tpr_lr = recall[closest_zero_fpr_lr]\n",
        "    #print(closest_zero_tpr_lr)\n",
        "    #y_proba_lr = lr.fit(X_train, y_train).predict_proba(X_test)\n",
        "    #confusion = confusion_matrix(y_test, lr_predicted)\n",
        "    ans = (closest_zero_r, closest_zero_tpr_lr)\n",
        "    return ans\n",
        "answer_five()"
      ],
      "execution_count": 24,
      "outputs": [
        {
          "output_type": "stream",
          "text": [
            "/usr/local/lib/python3.6/dist-packages/sklearn/linear_model/_logistic.py:940: ConvergenceWarning: lbfgs failed to converge (status=1):\n",
            "STOP: TOTAL NO. of ITERATIONS REACHED LIMIT.\n",
            "\n",
            "Increase the number of iterations (max_iter) or scale the data as shown in:\n",
            "    https://scikit-learn.org/stable/modules/preprocessing.html\n",
            "Please also refer to the documentation for alternative solver options:\n",
            "    https://scikit-learn.org/stable/modules/linear_model.html#logistic-regression\n",
            "  extra_warning_msg=_LOGISTIC_SOLVER_CONVERGENCE_MSG)\n",
            "/usr/local/lib/python3.6/dist-packages/sklearn/linear_model/_logistic.py:940: ConvergenceWarning: lbfgs failed to converge (status=1):\n",
            "STOP: TOTAL NO. of ITERATIONS REACHED LIMIT.\n",
            "\n",
            "Increase the number of iterations (max_iter) or scale the data as shown in:\n",
            "    https://scikit-learn.org/stable/modules/preprocessing.html\n",
            "Please also refer to the documentation for alternative solver options:\n",
            "    https://scikit-learn.org/stable/modules/linear_model.html#logistic-regression\n",
            "  extra_warning_msg=_LOGISTIC_SOLVER_CONVERGENCE_MSG)\n"
          ],
          "name": "stderr"
        },
        {
          "output_type": "execute_result",
          "data": {
            "text/plain": [
              "(0.825, 0.9875)"
            ]
          },
          "metadata": {
            "tags": []
          },
          "execution_count": 24
        }
      ]
    },
    {
      "cell_type": "markdown",
      "metadata": {
        "id": "UR4Su_WfoJld"
      },
      "source": [
        "### Question 6\n",
        "\n",
        "Perform a grid search over the parameters listed below for a Logisitic Regression classifier, using recall for scoring and the default 3-fold cross validation.\n",
        "\n",
        "`'penalty': ['l1', 'l2']`\n",
        "\n",
        "`'C':[0.01, 0.1, 1, 10, 100]`\n",
        "\n",
        "From `.cv_results_`, create an array of the mean test scores of each parameter combination. i.e.\n",
        "\n",
        "|      \t| `l1` \t| `l2` \t|\n",
        "|:----:\t|----\t|----\t|\n",
        "| **`0.01`** \t|    ?\t|   ? \t|\n",
        "| **`0.1`**  \t|    ?\t|   ? \t|\n",
        "| **`1`**    \t|    ?\t|   ? \t|\n",
        "| **`10`**   \t|    ?\t|   ? \t|\n",
        "| **`100`**   \t|    ?\t|   ? \t|\n",
        "\n",
        "<br>\n",
        "\n",
        "*This function should return a 5 by 2 numpy array with 10 floats.* \n",
        "\n",
        "*Note: do not return a DataFrame, just the values denoted by '?' above in a numpy array.*"
      ]
    },
    {
      "cell_type": "code",
      "metadata": {
        "id": "Qe7C4aEyoJld"
      },
      "source": [
        "def answer_six():    \n",
        "    from sklearn.model_selection import GridSearchCV\n",
        "    from sklearn.linear_model import LogisticRegression\n",
        "\n",
        "    # Your code here\n",
        "    clf = LogisticRegression(max_iter = 10000, solver='liblinear')\n",
        "    #fill out the grid of parameters we want to search\n",
        "    grid_values = {'penalty': ['l1', 'l2'], 'C':[0.01, 0.1, 1, 10, 100]}\n",
        "    \n",
        "    grid_clf_acc = GridSearchCV(clf, param_grid = grid_values, scoring = 'recall', cv=3)\n",
        "    grid_clf_acc.fit(X_train, y_train)\n",
        "    \n",
        "    return grid_clf_acc.cv_results_['mean_test_score'].reshape(-1, 2)"
      ],
      "execution_count": 25,
      "outputs": []
    },
    {
      "cell_type": "code",
      "metadata": {
        "id": "S2YXfKOKoJlg"
      },
      "source": [
        "r = answer_six()"
      ],
      "execution_count": 26,
      "outputs": []
    },
    {
      "cell_type": "code",
      "metadata": {
        "id": "E1pkjjqmoJli",
        "outputId": "26d18b48-ed3e-4c43-ef97-b12182e71a98",
        "colab": {
          "base_uri": "https://localhost:8080/"
        }
      },
      "source": [
        "r"
      ],
      "execution_count": 27,
      "outputs": [
        {
          "output_type": "execute_result",
          "data": {
            "text/plain": [
              "array([[0.66666667, 0.76086957],\n",
              "       [0.80072464, 0.80434783],\n",
              "       [0.8115942 , 0.8115942 ],\n",
              "       [0.80797101, 0.8115942 ],\n",
              "       [0.80797101, 0.8115942 ]])"
            ]
          },
          "metadata": {
            "tags": []
          },
          "execution_count": 27
        }
      ]
    },
    {
      "cell_type": "code",
      "metadata": {
        "id": "Ur2QKx4toJlv",
        "outputId": "ddceabaf-9315-4af4-c728-87be3d737027",
        "colab": {
          "base_uri": "https://localhost:8080/",
          "height": 265
        }
      },
      "source": [
        "# Use the following function to help visualize results from the grid search\n",
        "def GridSearch_Heatmap(scores):\n",
        "    %matplotlib inline\n",
        "    import seaborn as sns\n",
        "    import matplotlib.pyplot as plt\n",
        "    plt.figure()\n",
        "    sns.heatmap(scores.reshape(5,2), xticklabels=['l1','l2'], yticklabels=[0.01, 0.1, 1, 10, 100])\n",
        "    plt.yticks(rotation=0);\n",
        "GridSearch_Heatmap(answer_six())"
      ],
      "execution_count": 29,
      "outputs": [
        {
          "output_type": "display_data",
          "data": {
            "image/png": "[encoded data removed]",
            "text/plain": [
              "<Figure size 432x288 with 2 Axes>"
            ]
          },
          "metadata": {
            "tags": [],
            "needs_background": "light"
          }
        }
      ]
    },
    {
      "cell_type": "code",
      "metadata": {
        "id": "WLrkbItqoJly"
      },
      "source": [
        ""
      ],
      "execution_count": 29,
      "outputs": []
    }
  ]
}