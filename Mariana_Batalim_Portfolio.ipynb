{
  "nbformat": 4,
  "nbformat_minor": 0,
  "metadata": {
    "colab": {
      "name": "Mariana_Batalim_Portfolio.ipynb",
      "provenance": [],
      "collapsed_sections": [],
      "toc_visible": true,
      "mount_file_id": "1I-fXPnhW7CELLpKW5RU35tApGVpI68Mn",
      "authorship_tag": "ABX9TyO4fv97XhiS7hD7CqTYmstU",
      "include_colab_link": true
    },
    "kernelspec": {
      "name": "python3",
      "display_name": "Python 3"
    }
  },
  "cells": [
    {
      "cell_type": "markdown",
      "metadata": {
        "id": "view-in-github",
        "colab_type": "text"
      },
      "source": [
        "<a href=\"https://colab.research.google.com/github/mabatalim/ItTralee_ML/blob/main/Mariana_Batalim_Portfolio.ipynb\" target=\"_parent\"><img src=\"https://colab.research.google.com/assets/colab-badge.svg\" alt=\"Open In Colab\"/></a>"
      ]
    },
    {
      "cell_type": "markdown",
      "metadata": {
        "id": "U3U0L3mHDpiK"
      },
      "source": [
        "**Machine Learning/Data for IoT Portfolio**\n",
        "\n",
        "\n",
        "Mariana Batalim Pazinatto\n",
        "\n",
        "T00215868"
      ]
    },
    {
      "cell_type": "markdown",
      "metadata": {
        "id": "tn6Mk3aND92u"
      },
      "source": [
        "**Machine Learning Applied to Predictive Maintenance**"
      ]
    },
    {
      "cell_type": "markdown",
      "metadata": {
        "id": "amhR3TKZHeBo"
      },
      "source": [
        "# Introduction"
      ]
    },
    {
      "cell_type": "markdown",
      "metadata": {
        "id": "tuAbUaQDETTX"
      },
      "source": [
        "Every day we rely on a wide range of machines, but every machine eventually breaks down unless it’s being maintained. Predictive maintenance aims to optimize the balance between corrective and preventive maintenance by enabling just in time replacement of components or maintenance actions. This approach minimizes the cost of unscheduled maintenance and maximizes the component’s lifespan, thus getting more value out of a part and equipment.\n",
        "\n",
        "Predictive maintenance has clear advantages over other types of maintenance and it is widely applicable. \n",
        "Predictive maintenance lets you estimate when machine failure will occur and we can plan maintenance in advance. Implementing predictive maintenance helps reduce downtime, optimize spare parts inventory, and maximize equipment lifetime. \n",
        "It is based on continuous monitoring of a machine or process integrity, allowing maintenance to be performed only when necessary. It allows the early detection of failures thanks to predictive tools based on historical data with machine learning techniques, statistical inference methods, and other engineering approaches. Machine learning can make your life easier by automatically finding the hidden patterns in your data.\n",
        "  \n",
        "The output from the machine learning project will be a model capable to determine if the equipment likely to failure (break) in the next “X” days/hours and the estimate time to failure (TTF / RUL).\n"
      ]
    },
    {
      "cell_type": "markdown",
      "metadata": {
        "id": "fWb9KnlBb2e4"
      },
      "source": [
        "This project dataset is a real life data set from sensors installed in two vacuum pumps, operating under similar condition and as part of the same operating system."
      ]
    },
    {
      "cell_type": "markdown",
      "metadata": {
        "id": "_izn5b6Ukpx5"
      },
      "source": [
        "**Equipment information:**\r\n",
        "*  Pump Manufacturer: Busch \r\n",
        "*  Model: Cobra NC 0300B\r\n",
        "*  Pump type: Screw Vacuum Pump\r\n",
        "*  Dimensions: \t1279 x 520 x 914 mm\r\n",
        "* Pump Speed/capacity: 320 m³/h"
      ]
    },
    {
      "cell_type": "markdown",
      "metadata": {
        "id": "w19r-3l6gX5F"
      },
      "source": [
        "**Operation overview:**\r\n",
        "\r\n",
        "Two screw rotors inside the cylinder of the COBRA NC rotate in opposite directions. The pumped medium is trapped between the cylinder and screw chambers, compressed, and transported to the gas outlet. During the compression process the screw rotors do not come into contact with each other or the cylinder. Thus, no lubricants or operating fluids are required in the compression chamber. COBRA NC series vacuum pumps use efficient Glycol cooling resulting in an even temperature distribution throughout the pump body, and guaranteeing thermal stability throughout the process.\r\n",
        "\r\n",
        "*Source: https://www.buschvacuum.com/ie/en/products/cobra-industry/cobra-nc/cobra-nc-0100-0300-b*"
      ]
    },
    {
      "cell_type": "markdown",
      "metadata": {
        "id": "FpP30vjQeMqR"
      },
      "source": [
        "The data was collected from Osisoft PI, using Osisoft PI Datalink.\r\n",
        "\r\n",
        "\r\n",
        "> PI System is an integrated portfolio of software to collect, store, view, analyze, and share operational data with users within and beyond the enterprise. *Source: https://www.osisoft.com/pi-system/*\r\n",
        "\r\n",
        "> PI DataLink is a Microsoft Excel add-in that enables you to retrieve information from your PI System directly into a spreadsheet. *Source: https://techsupport.osisoft.com/Products/Client-Products/PI-DataLink*\r\n"
      ]
    },
    {
      "cell_type": "markdown",
      "metadata": {
        "id": "2Wo3vxItHm4Y"
      },
      "source": [
        "# Dataset"
      ]
    },
    {
      "cell_type": "markdown",
      "metadata": {
        "id": "ZF4tLrPLb3QU"
      },
      "source": [
        "\r\n",
        "For this project, we are using Threshold Data to Estimate the TTF (Time to failure). All threshold values are based on the PLC (program logic controller) logic, and all the failures were labeled based on those.\r\n",
        "\r\n",
        "Failures:\r\n",
        "* Inlet temperature >60, = Failure (High Inlet temperature)\r\n",
        "* Housing temperature >130, = Failure (High Housing temperature)\r\n",
        "* Discharge temperature >150, = Failure (High Housing temperature)\r\n",
        "* Vibration >0.5,  = Failure (High Vibration)\r\n",
        "* Barrier Gas Flow switch == 0, = Failure (Barrier Gas low flow)\r\n",
        "Purge Gas Flow switch == 0, = Failure (Purge Gas low flow)\r\n",
        "* Ballast Gas Flow switch == 0, = Failure (Ballast Gas low flow)"
      ]
    },
    {
      "cell_type": "markdown",
      "metadata": {
        "id": "PmmvF6cobUBQ"
      },
      "source": [
        "## **Import libraries** "
      ]
    },
    {
      "cell_type": "code",
      "metadata": {
        "id": "PZqw7_g5JCwk"
      },
      "source": [
        "import numpy as np\n",
        "import pandas as pd\n",
        "from matplotlib import pyplot\n",
        "import seaborn as sns\n",
        "from matplotlib.ticker import PercentFormatter\n",
        "from google.colab import files\n",
        "from pandas.plotting import scatter_matrix\n",
        "from sklearn.model_selection import train_test_split\n",
        "\n",
        "%matplotlib inline"
      ],
      "execution_count": 1,
      "outputs": []
    },
    {
      "cell_type": "markdown",
      "metadata": {
        "id": "pAimzoopbcyP"
      },
      "source": [
        "## **Import Dataset**\r\n",
        "\r\n",
        "Importing Data from Local System"
      ]
    },
    {
      "cell_type": "code",
      "metadata": {
        "id": "jP8Qju1jNJ20",
        "colab": {
          "resources": {
            "http://localhost:8080/nbextensions/google.colab/files.js": {
              "data": "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",
              "ok": true,
              "headers": [
                [
                  "content-type",
                  "application/javascript"
                ]
              ],
              "status": 200,
              "status_text": ""
            }
          },
          "base_uri": "https://localhost:8080/",
          "height": 73
        },
        "outputId": "2a020bef-41ed-43db-83d0-d9fae2b87291"
      },
      "source": [
        "# Read the CSV file.\n",
        "uploaded = files.upload()\n"
      ],
      "execution_count": 2,
      "outputs": [
        {
          "output_type": "display_data",
          "data": {
            "text/html": [
              "\n",
              "     <input type=\"file\" id=\"files-cd26975a-ad1a-47ca-806f-808cabfbd832\" name=\"files[]\" multiple disabled\n",
              "        style=\"border:none\" />\n",
              "     <output id=\"result-cd26975a-ad1a-47ca-806f-808cabfbd832\">\n",
              "      Upload widget is only available when the cell has been executed in the\n",
              "      current browser session. Please rerun this cell to enable.\n",
              "      </output>\n",
              "      <script src=\"/nbextensions/google.colab/files.js\"></script> "
            ],
            "text/plain": [
              "<IPython.core.display.HTML object>"
            ]
          },
          "metadata": {
            "tags": []
          }
        },
        {
          "output_type": "stream",
          "text": [
            "Saving VP DATASET CLEAN3.csv to VP DATASET CLEAN3.csv\n"
          ],
          "name": "stdout"
        }
      ]
    },
    {
      "cell_type": "code",
      "metadata": {
        "id": "Tw-1RSndYysi"
      },
      "source": [
        "#Read the data using a library (Pandas):\r\n",
        "vp_data = pd.read_csv(\"VP DATASET CLEAN3.csv\")"
      ],
      "execution_count": 3,
      "outputs": []
    },
    {
      "cell_type": "code",
      "metadata": {
        "colab": {
          "base_uri": "https://localhost:8080/",
          "height": 539
        },
        "id": "WarJnXlngUrQ",
        "outputId": "fddce660-924e-4b8e-c6a8-2d5990de0716"
      },
      "source": [
        "#preview data\r\n",
        "vp_data[1:11]"
      ],
      "execution_count": null,
      "outputs": [
        {
          "output_type": "execute_result",
          "data": {
            "text/html": [
              "<div>\n",
              "<style scoped>\n",
              "    .dataframe tbody tr th:only-of-type {\n",
              "        vertical-align: middle;\n",
              "    }\n",
              "\n",
              "    .dataframe tbody tr th {\n",
              "        vertical-align: top;\n",
              "    }\n",
              "\n",
              "    .dataframe thead th {\n",
              "        text-align: right;\n",
              "    }\n",
              "</style>\n",
              "<table border=\"1\" class=\"dataframe\">\n",
              "  <thead>\n",
              "    <tr style=\"text-align: right;\">\n",
              "      <th></th>\n",
              "      <th>Date</th>\n",
              "      <th>Equipment</th>\n",
              "      <th>Inlet Temperature</th>\n",
              "      <th>Housing temperature</th>\n",
              "      <th>Discharge Temperature</th>\n",
              "      <th>Discharge Pressure</th>\n",
              "      <th>Vibration</th>\n",
              "      <th>CONDITION</th>\n",
              "      <th>Fault LABEL</th>\n",
              "      <th>Fault (Y/N)</th>\n",
              "      <th>TTF</th>\n",
              "    </tr>\n",
              "  </thead>\n",
              "  <tbody>\n",
              "    <tr>\n",
              "      <th>1</th>\n",
              "      <td>01/01/2020 00:05</td>\n",
              "      <td>VP-1132</td>\n",
              "      <td>7.234</td>\n",
              "      <td>7.234</td>\n",
              "      <td>7.191</td>\n",
              "      <td>-12.508</td>\n",
              "      <td>0.0001</td>\n",
              "      <td>STOP</td>\n",
              "      <td>NO FAULT</td>\n",
              "      <td>0</td>\n",
              "      <td>221860</td>\n",
              "    </tr>\n",
              "    <tr>\n",
              "      <th>2</th>\n",
              "      <td>01/01/2020 00:10</td>\n",
              "      <td>VP-1132</td>\n",
              "      <td>7.234</td>\n",
              "      <td>7.234</td>\n",
              "      <td>7.191</td>\n",
              "      <td>-12.508</td>\n",
              "      <td>0.0001</td>\n",
              "      <td>STOP</td>\n",
              "      <td>NO FAULT</td>\n",
              "      <td>0</td>\n",
              "      <td>221855</td>\n",
              "    </tr>\n",
              "    <tr>\n",
              "      <th>3</th>\n",
              "      <td>01/01/2020 00:15</td>\n",
              "      <td>VP-1132</td>\n",
              "      <td>7.234</td>\n",
              "      <td>7.234</td>\n",
              "      <td>7.191</td>\n",
              "      <td>-12.508</td>\n",
              "      <td>0.0001</td>\n",
              "      <td>STOP</td>\n",
              "      <td>NO FAULT</td>\n",
              "      <td>0</td>\n",
              "      <td>221850</td>\n",
              "    </tr>\n",
              "    <tr>\n",
              "      <th>4</th>\n",
              "      <td>01/01/2020 00:20</td>\n",
              "      <td>VP-1132</td>\n",
              "      <td>7.234</td>\n",
              "      <td>7.234</td>\n",
              "      <td>7.191</td>\n",
              "      <td>-12.508</td>\n",
              "      <td>0.0001</td>\n",
              "      <td>STOP</td>\n",
              "      <td>NO FAULT</td>\n",
              "      <td>0</td>\n",
              "      <td>221845</td>\n",
              "    </tr>\n",
              "    <tr>\n",
              "      <th>5</th>\n",
              "      <td>01/01/2020 00:25</td>\n",
              "      <td>VP-1132</td>\n",
              "      <td>7.234</td>\n",
              "      <td>7.234</td>\n",
              "      <td>7.191</td>\n",
              "      <td>-12.508</td>\n",
              "      <td>0.0001</td>\n",
              "      <td>STOP</td>\n",
              "      <td>NO FAULT</td>\n",
              "      <td>0</td>\n",
              "      <td>221840</td>\n",
              "    </tr>\n",
              "    <tr>\n",
              "      <th>6</th>\n",
              "      <td>01/01/2020 00:30</td>\n",
              "      <td>VP-1132</td>\n",
              "      <td>7.234</td>\n",
              "      <td>7.234</td>\n",
              "      <td>7.191</td>\n",
              "      <td>-12.508</td>\n",
              "      <td>0.0001</td>\n",
              "      <td>STOP</td>\n",
              "      <td>NO FAULT</td>\n",
              "      <td>0</td>\n",
              "      <td>221835</td>\n",
              "    </tr>\n",
              "    <tr>\n",
              "      <th>7</th>\n",
              "      <td>01/01/2020 00:35</td>\n",
              "      <td>VP-1132</td>\n",
              "      <td>7.234</td>\n",
              "      <td>7.234</td>\n",
              "      <td>7.191</td>\n",
              "      <td>-12.508</td>\n",
              "      <td>0.0001</td>\n",
              "      <td>STOP</td>\n",
              "      <td>NO FAULT</td>\n",
              "      <td>0</td>\n",
              "      <td>221830</td>\n",
              "    </tr>\n",
              "    <tr>\n",
              "      <th>8</th>\n",
              "      <td>01/01/2020 00:40</td>\n",
              "      <td>VP-1132</td>\n",
              "      <td>7.234</td>\n",
              "      <td>7.234</td>\n",
              "      <td>7.191</td>\n",
              "      <td>-12.508</td>\n",
              "      <td>0.0001</td>\n",
              "      <td>STOP</td>\n",
              "      <td>NO FAULT</td>\n",
              "      <td>0</td>\n",
              "      <td>221825</td>\n",
              "    </tr>\n",
              "    <tr>\n",
              "      <th>9</th>\n",
              "      <td>01/01/2020 00:45</td>\n",
              "      <td>VP-1132</td>\n",
              "      <td>7.234</td>\n",
              "      <td>7.234</td>\n",
              "      <td>7.191</td>\n",
              "      <td>-12.508</td>\n",
              "      <td>0.0001</td>\n",
              "      <td>STOP</td>\n",
              "      <td>NO FAULT</td>\n",
              "      <td>0</td>\n",
              "      <td>221820</td>\n",
              "    </tr>\n",
              "    <tr>\n",
              "      <th>10</th>\n",
              "      <td>01/01/2020 00:50</td>\n",
              "      <td>VP-1132</td>\n",
              "      <td>7.234</td>\n",
              "      <td>7.234</td>\n",
              "      <td>7.191</td>\n",
              "      <td>-12.508</td>\n",
              "      <td>0.0001</td>\n",
              "      <td>STOP</td>\n",
              "      <td>NO FAULT</td>\n",
              "      <td>0</td>\n",
              "      <td>221815</td>\n",
              "    </tr>\n",
              "  </tbody>\n",
              "</table>\n",
              "</div>"
            ],
            "text/plain": [
              "                Date Equipment  ...  Fault (Y/N)     TTF\n",
              "1   01/01/2020 00:05   VP-1132  ...            0  221860\n",
              "2   01/01/2020 00:10   VP-1132  ...            0  221855\n",
              "3   01/01/2020 00:15   VP-1132  ...            0  221850\n",
              "4   01/01/2020 00:20   VP-1132  ...            0  221845\n",
              "5   01/01/2020 00:25   VP-1132  ...            0  221840\n",
              "6   01/01/2020 00:30   VP-1132  ...            0  221835\n",
              "7   01/01/2020 00:35   VP-1132  ...            0  221830\n",
              "8   01/01/2020 00:40   VP-1132  ...            0  221825\n",
              "9   01/01/2020 00:45   VP-1132  ...            0  221820\n",
              "10  01/01/2020 00:50   VP-1132  ...            0  221815\n",
              "\n",
              "[10 rows x 11 columns]"
            ]
          },
          "metadata": {
            "tags": []
          },
          "execution_count": 31
        }
      ]
    },
    {
      "cell_type": "code",
      "metadata": {
        "colab": {
          "base_uri": "https://localhost:8080/"
        },
        "id": "jjSWtFY99uGW",
        "outputId": "76fa66ec-0149-43b6-c408-f7eee8a02eb5"
      },
      "source": [
        "vp_data.info()"
      ],
      "execution_count": null,
      "outputs": [
        {
          "output_type": "stream",
          "text": [
            "<class 'pandas.core.frame.DataFrame'>\n",
            "RangeIndex: 958964 entries, 0 to 958963\n",
            "Data columns (total 11 columns):\n",
            " #   Column                 Non-Null Count   Dtype  \n",
            "---  ------                 --------------   -----  \n",
            " 0   Date                   958964 non-null  object \n",
            " 1   Equipment              958964 non-null  object \n",
            " 2   Inlet Temperature      958964 non-null  float64\n",
            " 3   Housing temperature    958964 non-null  float64\n",
            " 4   Discharge Temperature  958964 non-null  float64\n",
            " 5   Discharge Pressure     958964 non-null  float64\n",
            " 6   Vibration              958964 non-null  float64\n",
            " 7   CONDITION              958964 non-null  object \n",
            " 8   Fault LABEL            958964 non-null  object \n",
            " 9   Fault (Y/N)            958964 non-null  int64  \n",
            " 10  TTF                    958964 non-null  int64  \n",
            "dtypes: float64(5), int64(2), object(4)\n",
            "memory usage: 80.5+ MB\n"
          ],
          "name": "stdout"
        }
      ]
    },
    {
      "cell_type": "markdown",
      "metadata": {
        "id": "TGIHLqTSBIn6"
      },
      "source": [
        "## **Dataset overview and basic statistics**"
      ]
    },
    {
      "cell_type": "markdown",
      "metadata": {
        "id": "8FiOAnu_eqLv"
      },
      "source": [
        "###Dataset overview"
      ]
    },
    {
      "cell_type": "markdown",
      "metadata": {
        "id": "dabFMelfAHdr"
      },
      "source": [
        "Dataset contains 958964 instances (rows) and 11 attributes (columns)"
      ]
    },
    {
      "cell_type": "code",
      "metadata": {
        "colab": {
          "base_uri": "https://localhost:8080/"
        },
        "id": "8H5_XhVuj80i",
        "outputId": "65aaa45d-8c6d-44ab-f7db-c77b016808e2"
      },
      "source": [
        "# shape \r\n",
        "print(vp_data.shape)"
      ],
      "execution_count": null,
      "outputs": [
        {
          "output_type": "stream",
          "text": [
            "(958964, 11)\n"
          ],
          "name": "stdout"
        }
      ]
    },
    {
      "cell_type": "markdown",
      "metadata": {
        "id": "5sQ9ORwAptiu"
      },
      "source": [
        "There are 2 machines in the data set: VP-1082 and VP-1132"
      ]
    },
    {
      "cell_type": "code",
      "metadata": {
        "colab": {
          "base_uri": "https://localhost:8080/"
        },
        "id": "wHkU2XVepYlK",
        "outputId": "7ec9887e-5a35-4a9b-8abd-acad6b9a2298"
      },
      "source": [
        "#function returns a GroupBy object, but essentially describes how the CONDITION of the original data set has been split\r\n",
        "vp_data.groupby(['Equipment']).groups.keys()"
      ],
      "execution_count": null,
      "outputs": [
        {
          "output_type": "execute_result",
          "data": {
            "text/plain": [
              "dict_keys(['VP-1082', 'VP-1132'])"
            ]
          },
          "metadata": {
            "tags": []
          },
          "execution_count": 7
        }
      ]
    },
    {
      "cell_type": "markdown",
      "metadata": {
        "id": "3dFQfCwlctO3"
      },
      "source": [
        "The dataset can be summarized based on the attributes as per below:"
      ]
    },
    {
      "cell_type": "code",
      "metadata": {
        "colab": {
          "base_uri": "https://localhost:8080/",
          "height": 308
        },
        "id": "QuCHEbT8gkkF",
        "outputId": "e97b7598-593d-456e-f1dd-80d81c06f88c"
      },
      "source": [
        "#Summary of each attribute. This includes the count, mean, the min and max values as well as some percentiles\r\n",
        "vp_data.describe()"
      ],
      "execution_count": null,
      "outputs": [
        {
          "output_type": "execute_result",
          "data": {
            "text/html": [
              "<div>\n",
              "<style scoped>\n",
              "    .dataframe tbody tr th:only-of-type {\n",
              "        vertical-align: middle;\n",
              "    }\n",
              "\n",
              "    .dataframe tbody tr th {\n",
              "        vertical-align: top;\n",
              "    }\n",
              "\n",
              "    .dataframe thead th {\n",
              "        text-align: right;\n",
              "    }\n",
              "</style>\n",
              "<table border=\"1\" class=\"dataframe\">\n",
              "  <thead>\n",
              "    <tr style=\"text-align: right;\">\n",
              "      <th></th>\n",
              "      <th>Inlet Temperature</th>\n",
              "      <th>Housing temperature</th>\n",
              "      <th>Discharge Temperature</th>\n",
              "      <th>Discharge Pressure</th>\n",
              "      <th>Vibration</th>\n",
              "      <th>Fault (Y/N)</th>\n",
              "      <th>TTF</th>\n",
              "    </tr>\n",
              "  </thead>\n",
              "  <tbody>\n",
              "    <tr>\n",
              "      <th>count</th>\n",
              "      <td>958964.000000</td>\n",
              "      <td>958964.000000</td>\n",
              "      <td>958964.000000</td>\n",
              "      <td>958964.000000</td>\n",
              "      <td>958964.000000</td>\n",
              "      <td>958964.000000</td>\n",
              "      <td>958964.000000</td>\n",
              "    </tr>\n",
              "    <tr>\n",
              "      <th>mean</th>\n",
              "      <td>20.385428</td>\n",
              "      <td>76.230973</td>\n",
              "      <td>54.466157</td>\n",
              "      <td>-3.693366</td>\n",
              "      <td>0.024016</td>\n",
              "      <td>0.000234</td>\n",
              "      <td>82103.643651</td>\n",
              "    </tr>\n",
              "    <tr>\n",
              "      <th>std</th>\n",
              "      <td>8.141664</td>\n",
              "      <td>44.330348</td>\n",
              "      <td>30.836179</td>\n",
              "      <td>11.701695</td>\n",
              "      <td>0.017767</td>\n",
              "      <td>0.015282</td>\n",
              "      <td>76284.127172</td>\n",
              "    </tr>\n",
              "    <tr>\n",
              "      <th>min</th>\n",
              "      <td>-1.514000</td>\n",
              "      <td>-0.112000</td>\n",
              "      <td>-0.104000</td>\n",
              "      <td>-12.694000</td>\n",
              "      <td>-0.000900</td>\n",
              "      <td>0.000000</td>\n",
              "      <td>0.000000</td>\n",
              "    </tr>\n",
              "    <tr>\n",
              "      <th>25%</th>\n",
              "      <td>14.108000</td>\n",
              "      <td>17.942000</td>\n",
              "      <td>17.434000</td>\n",
              "      <td>-12.460000</td>\n",
              "      <td>0.000900</td>\n",
              "      <td>0.000000</td>\n",
              "      <td>19975.000000</td>\n",
              "    </tr>\n",
              "    <tr>\n",
              "      <th>50%</th>\n",
              "      <td>20.974000</td>\n",
              "      <td>105.526000</td>\n",
              "      <td>65.629000</td>\n",
              "      <td>-4.354000</td>\n",
              "      <td>0.034100</td>\n",
              "      <td>0.000000</td>\n",
              "      <td>57530.000000</td>\n",
              "    </tr>\n",
              "    <tr>\n",
              "      <th>75%</th>\n",
              "      <td>26.425000</td>\n",
              "      <td>109.446000</td>\n",
              "      <td>79.476000</td>\n",
              "      <td>0.582000</td>\n",
              "      <td>0.037200</td>\n",
              "      <td>0.000000</td>\n",
              "      <td>124145.000000</td>\n",
              "    </tr>\n",
              "    <tr>\n",
              "      <th>max</th>\n",
              "      <td>336.572000</td>\n",
              "      <td>335.220000</td>\n",
              "      <td>337.880000</td>\n",
              "      <td>294.418000</td>\n",
              "      <td>0.458800</td>\n",
              "      <td>1.000000</td>\n",
              "      <td>334450.000000</td>\n",
              "    </tr>\n",
              "  </tbody>\n",
              "</table>\n",
              "</div>"
            ],
            "text/plain": [
              "       Inlet Temperature  Housing temperature  ...    Fault (Y/N)            TTF\n",
              "count      958964.000000        958964.000000  ...  958964.000000  958964.000000\n",
              "mean           20.385428            76.230973  ...       0.000234   82103.643651\n",
              "std             8.141664            44.330348  ...       0.015282   76284.127172\n",
              "min            -1.514000            -0.112000  ...       0.000000       0.000000\n",
              "25%            14.108000            17.942000  ...       0.000000   19975.000000\n",
              "50%            20.974000           105.526000  ...       0.000000   57530.000000\n",
              "75%            26.425000           109.446000  ...       0.000000  124145.000000\n",
              "max           336.572000           335.220000  ...       1.000000  334450.000000\n",
              "\n",
              "[8 rows x 7 columns]"
            ]
          },
          "metadata": {
            "tags": []
          },
          "execution_count": 8
        }
      ]
    },
    {
      "cell_type": "markdown",
      "metadata": {
        "id": "wuZcOn3QAr_T"
      },
      "source": [
        "###Data Distribution"
      ]
    },
    {
      "cell_type": "markdown",
      "metadata": {
        "id": "RY1Um_s-b69p"
      },
      "source": [
        "Pump condition data is distributed into 3 categories: \"Fault\", \"Running\" and \"Stop\""
      ]
    },
    {
      "cell_type": "code",
      "metadata": {
        "colab": {
          "base_uri": "https://localhost:8080/"
        },
        "id": "empacXskXoTM",
        "outputId": "34169e2e-fbe3-4fa6-a3b0-aeafa9ff2a2a"
      },
      "source": [
        "#function returns a GroupBy object, but essentially describes how the CONDITION of the original data set has been split\r\n",
        "vp_data.groupby(['CONDITION']).groups.keys()"
      ],
      "execution_count": null,
      "outputs": [
        {
          "output_type": "execute_result",
          "data": {
            "text/plain": [
              "dict_keys(['FAULT', 'RUNNING', 'STOP'])"
            ]
          },
          "metadata": {
            "tags": []
          },
          "execution_count": 9
        }
      ]
    },
    {
      "cell_type": "markdown",
      "metadata": {
        "id": "_56hf1D-1l6d"
      },
      "source": [
        "It appears that out of 958,964 records, we only have 224 failures. This corresponds to a failure rate of about 0.023%. In other words, for every failure we have over 907 non-failures. It means the data is very imbalanced. \r\n",
        "\r\n",
        "This issue is due to following:\r\n",
        "\r\n",
        "* The failure events usually rarely occurs compared to normal operation state for an in-service asset.\r\n",
        "* Because machines generally last a long time, we typically do not have many examples of failure. \r\n",
        "* The business cannot afford to let the asset run-to-failure, as it is at the cost of equipment damage and equipment down time.\r\n",
        "\r\n",
        "This means the data sets we use in Predictive Maintenance are almost always imbalanced."
      ]
    },
    {
      "cell_type": "code",
      "metadata": {
        "colab": {
          "base_uri": "https://localhost:8080/"
        },
        "id": "pgyDNmwwkigR",
        "outputId": "e7b1dc89-3972-43a6-ee9f-e79235058372"
      },
      "source": [
        "# CONDITION distribution\r\n",
        "print(vp_data.groupby('CONDITION').size())"
      ],
      "execution_count": null,
      "outputs": [
        {
          "output_type": "stream",
          "text": [
            "CONDITION\n",
            "FAULT         224\n",
            "RUNNING    755512\n",
            "STOP       203228\n",
            "dtype: int64\n"
          ],
          "name": "stdout"
        }
      ]
    },
    {
      "cell_type": "markdown",
      "metadata": {
        "id": "BROF5KGZrnvz"
      },
      "source": [
        "Data Distribution per Machine:"
      ]
    },
    {
      "cell_type": "code",
      "metadata": {
        "colab": {
          "base_uri": "https://localhost:8080/"
        },
        "id": "e16yoJklqpvA",
        "outputId": "c66be111-2320-49d1-8575-9e134e6edba1"
      },
      "source": [
        "# CONDITION distribution per Equipment\r\n",
        "vp_data.groupby(['Equipment', 'CONDITION'])['CONDITION'].count()"
      ],
      "execution_count": null,
      "outputs": [
        {
          "output_type": "execute_result",
          "data": {
            "text/plain": [
              "Equipment  CONDITION\n",
              "VP-1082    FAULT           107\n",
              "           RUNNING      377757\n",
              "           STOP         101619\n",
              "VP-1132    FAULT           117\n",
              "           RUNNING      377755\n",
              "           STOP         101609\n",
              "Name: CONDITION, dtype: int64"
            ]
          },
          "metadata": {
            "tags": []
          },
          "execution_count": 11
        }
      ]
    },
    {
      "cell_type": "markdown",
      "metadata": {
        "id": "l3d2eYYteu6i"
      },
      "source": [
        "###Fault Distribution"
      ]
    },
    {
      "cell_type": "markdown",
      "metadata": {
        "id": "TcI6TVpvcTNQ"
      },
      "source": [
        "All \"Fault\" conditions are labelled (Fault Type), as demonstrated below:"
      ]
    },
    {
      "cell_type": "code",
      "metadata": {
        "colab": {
          "base_uri": "https://localhost:8080/"
        },
        "id": "H79suBj6p-Al",
        "outputId": "ad24a4f7-3c04-4bee-a4cd-d48c7e079c76"
      },
      "source": [
        "# Fault distribution per Equipment\r\n",
        "vp_data.groupby(['Equipment', 'Fault LABEL'])['CONDITION'].count()"
      ],
      "execution_count": null,
      "outputs": [
        {
          "output_type": "execute_result",
          "data": {
            "text/plain": [
              "Equipment  Fault LABEL               \n",
              "VP-1082    Ballast Gas low flow              12\n",
              "           Barrier Gas low flow              22\n",
              "           High Discharge temperature         8\n",
              "           High Housing temperature          36\n",
              "           High Inlet temperature             9\n",
              "           NO FAULT                      479376\n",
              "           Purge Gas low flow                20\n",
              "VP-1132    Ballast Gas low flow               7\n",
              "           Barrier Gas low flow              27\n",
              "           High Discharge temperature         8\n",
              "           High Housing temperature          29\n",
              "           High Inlet temperature            21\n",
              "           NO FAULT                      479364\n",
              "           Purge Gas low flow                25\n",
              "Name: CONDITION, dtype: int64"
            ]
          },
          "metadata": {
            "tags": []
          },
          "execution_count": 12
        }
      ]
    },
    {
      "cell_type": "code",
      "metadata": {
        "colab": {
          "base_uri": "https://localhost:8080/"
        },
        "id": "KjsyJuQ9bUft",
        "outputId": "2653b4d1-6c58-41a6-b9e7-4a31ea6d02b3"
      },
      "source": [
        "vp_data.groupby(['CONDITION', 'Fault LABEL'])['CONDITION'].count()"
      ],
      "execution_count": null,
      "outputs": [
        {
          "output_type": "execute_result",
          "data": {
            "text/plain": [
              "CONDITION  Fault LABEL               \n",
              "FAULT      Ballast Gas low flow              19\n",
              "           Barrier Gas low flow              49\n",
              "           High Discharge temperature        16\n",
              "           High Housing temperature          65\n",
              "           High Inlet temperature            30\n",
              "           Purge Gas low flow                45\n",
              "RUNNING    NO FAULT                      755512\n",
              "STOP       NO FAULT                      203228\n",
              "Name: CONDITION, dtype: int64"
            ]
          },
          "metadata": {
            "tags": []
          },
          "execution_count": 13
        }
      ]
    },
    {
      "cell_type": "markdown",
      "metadata": {
        "id": "_v6moa6De8Wk"
      },
      "source": [
        "####Pareto Chart"
      ]
    },
    {
      "cell_type": "code",
      "metadata": {
        "colab": {
          "base_uri": "https://localhost:8080/",
          "height": 398
        },
        "id": "hpcDjHbC5rCk",
        "outputId": "579ff32f-cd27-4530-d2c0-4c6b086f08fe"
      },
      "source": [
        "# FAULT distribution\r\n",
        "# Pareto chart based on figures calculated above\r\n",
        "\r\n",
        "\r\n",
        "df = pd.DataFrame({'Failures': [19, 49, 16, 65, 30, 45]})\r\n",
        "df.index = ['Ballast Gas low flow', 'Barrier Gas low flow', 'High Discharge temperature', 'High Housing temperature', 'High Inlet temperature', 'Purge Gas low flow']\r\n",
        "df = df.sort_values(by='Failures',ascending=False)\r\n",
        "df[\"cumpercentage\"] = df[\"Failures\"].cumsum()/df[\"Failures\"].sum()*100\r\n",
        "\r\n",
        "fig, ax = pyplot.subplots()\r\n",
        "ax.bar(df.index, df[\"Failures\"], color=\"C0\")\r\n",
        "ax2 = ax.twinx()\r\n",
        "ax2.plot(df.index, df[\"cumpercentage\"], color=\"C1\", marker=\"D\", ms=7)\r\n",
        "ax2.yaxis.set_major_formatter(PercentFormatter())\r\n",
        "\r\n",
        "ax.tick_params(axis=\"y\", colors=\"C0\")\r\n",
        "ax2.tick_params(axis=\"y\", colors=\"C1\")\r\n",
        "\r\n",
        "for tick in ax.get_xticklabels():\r\n",
        "    tick.set_rotation(90)\r\n",
        "\r\n",
        "pyplot.show()"
      ],
      "execution_count": null,
      "outputs": [
        {
          "output_type": "display_data",
          "data": {
            "image/png": "[encoded data removed]",
            "text/plain": [
              "<Figure size 432x288 with 2 Axes>"
            ]
          },
          "metadata": {
            "tags": []
          }
        }
      ]
    },
    {
      "cell_type": "markdown",
      "metadata": {
        "id": "j-Bxxu0BByVY"
      },
      "source": [
        "###Histograms and Plots"
      ]
    },
    {
      "cell_type": "code",
      "metadata": {
        "colab": {
          "base_uri": "https://localhost:8080/",
          "height": 265
        },
        "id": "8F0uIKL14p2v",
        "outputId": "1a2dceff-381f-466f-d390-dce9b0fef5db"
      },
      "source": [
        "# Create histograms to visualise the distribution of house prices\r\n",
        "from pylab import xticks\r\n",
        "FAILURE1 = vp_data['Housing temperature']\r\n",
        "\r\n",
        "pyplot.hist(FAILURE1, bins=40, color='red', alpha=0.25, label=\"Housing temperature\")\r\n",
        "pyplot.xlim(xmin=-10, xmax = 150)\r\n",
        "pyplot.hist(np.random.normal(75, 35, 2800000), color='k', alpha=0.25, bins = 40, label = \"Normal Distribution.\")\r\n",
        "pyplot.legend()\r\n",
        "pyplot.show()"
      ],
      "execution_count": 34,
      "outputs": [
        {
          "output_type": "display_data",
          "data": {
            "image/png": "[encoded data removed]",
            "text/plain": [
              "<Figure size 432x288 with 1 Axes>"
            ]
          },
          "metadata": {
            "tags": [],
            "needs_background": "light"
          }
        }
      ]
    },
    {
      "cell_type": "code",
      "metadata": {
        "colab": {
          "base_uri": "https://localhost:8080/",
          "height": 265
        },
        "id": "bYhoCyuB4uwH",
        "outputId": "8cc7746b-b5ab-46a7-bb9d-612e806d400e"
      },
      "source": [
        "# Create histograms to visualise the distribution of house prices\r\n",
        "FAILURE2 = vp_data['Discharge Temperature']\r\n",
        "\r\n",
        "pyplot.hist(FAILURE2, bins=45, color='blue', alpha=0.25, label=\"Discharge Temperature\")\r\n",
        "pyplot.xlim(xmin=-10, xmax = 150)\r\n",
        "pyplot.hist(np.random.normal(75, 35, 2800000), color='k', alpha=0.25, bins = 40, label = \"Normal Distribution.\")\r\n",
        "pyplot.legend()\r\n",
        "pyplot.show()"
      ],
      "execution_count": 35,
      "outputs": [
        {
          "output_type": "display_data",
          "data": {
            "image/png": "[encoded data removed]",
            "text/plain": [
              "<Figure size 432x288 with 1 Axes>"
            ]
          },
          "metadata": {
            "tags": [],
            "needs_background": "light"
          }
        }
      ]
    },
    {
      "cell_type": "code",
      "metadata": {
        "colab": {
          "base_uri": "https://localhost:8080/",
          "height": 265
        },
        "id": "ckU5EzVF4x4v",
        "outputId": "eca5e2de-e4d1-41f1-8eff-16c7595423fc"
      },
      "source": [
        "# Create histograms to visualise the distribution of house prices\r\n",
        "FAILURE3 = vp_data['Inlet Temperature']\r\n",
        "\r\n",
        "pyplot.hist(FAILURE3, bins=80, color='green', alpha=0.25, label=\"Inlet Temperature\")\r\n",
        "pyplot.xlim(xmin=-10, xmax = 60)\r\n",
        "pyplot.hist(np.random.normal(25, 12, 3300000), color='k', alpha=0.25, bins = 80, label = \"Normal Distribution.\")\r\n",
        "pyplot.legend()\r\n",
        "pyplot.show()"
      ],
      "execution_count": 58,
      "outputs": [
        {
          "output_type": "display_data",
          "data": {
            "image/png": "[encoded data removed]",
            "text/plain": [
              "<Figure size 432x288 with 1 Axes>"
            ]
          },
          "metadata": {
            "tags": [],
            "needs_background": "light"
          }
        }
      ]
    },
    {
      "cell_type": "code",
      "metadata": {
        "colab": {
          "base_uri": "https://localhost:8080/",
          "height": 265
        },
        "id": "6YGj3zN_447r",
        "outputId": "b4a2f3f5-1042-448a-8230-8ab6eea1795a"
      },
      "source": [
        "FAILURE4 = vp_data['Vibration']\r\n",
        "\r\n",
        "pyplot.hist(FAILURE3, bins=80, color='yellow', alpha=0.25, label=\"Vibration\")\r\n",
        "pyplot.xlim(xmin=0, xmax = 40)\r\n",
        "pyplot.hist(np.random.normal(20, 8, 3500000), color='k', alpha=0.25, bins = 80, label = \"Normal Distribution.\")\r\n",
        "pyplot.legend()\r\n",
        "pyplot.show()"
      ],
      "execution_count": 63,
      "outputs": [
        {
          "output_type": "display_data",
          "data": {
            "image/png": "[encoded data removed]",
            "text/plain": [
              "<Figure size 432x288 with 1 Axes>"
            ]
          },
          "metadata": {
            "tags": [],
            "needs_background": "light"
          }
        }
      ]
    },
    {
      "cell_type": "code",
      "metadata": {
        "colab": {
          "base_uri": "https://localhost:8080/",
          "height": 265
        },
        "id": "_OHetgbJ5lt7",
        "outputId": "f530a99f-4834-47c4-b9cc-21bbd18a34ee"
      },
      "source": [
        "FAILURE4 = vp_data['Discharge Pressure']\r\n",
        "\r\n",
        "pyplot.hist(FAILURE3, bins=80, color='purple', alpha=0.25, label=\"Discharge Pressure\")\r\n",
        "pyplot.xlim(xmin=0, xmax = 45)\r\n",
        "pyplot.hist(np.random.normal(22.5, 8, 3500000), color='k', alpha=0.25, bins = 80, label = \"Normal Distribution.\")\r\n",
        "pyplot.legend()\r\n",
        "pyplot.show()"
      ],
      "execution_count": 67,
      "outputs": [
        {
          "output_type": "display_data",
          "data": {
            "image/png": "[encoded data removed]",
            "text/plain": [
              "<Figure size 432x288 with 1 Axes>"
            ]
          },
          "metadata": {
            "tags": [],
            "needs_background": "light"
          }
        }
      ]
    },
    {
      "cell_type": "code",
      "metadata": {
        "colab": {
          "base_uri": "https://localhost:8080/",
          "height": 899
        },
        "id": "XrqkUsLONvFb",
        "outputId": "5ce49901-a73b-4d93-d1ba-86bce5b12d85"
      },
      "source": [
        "#Scatterplot overview, for the 2 different equipment (VP-1132 and VP-1082)\r\n",
        "\r\n",
        "g = sns.PairGrid(vp_data, vars=['Inlet Temperature', 'Housing temperature', 'Discharge Temperature', 'Discharge Pressure',  'Vibration'],\r\n",
        "                 hue='Equipment', palette='RdBu_r')\r\n",
        "g.map(pyplot.scatter, alpha=0.6)\r\n",
        "g.add_legend();\r\n",
        "\r\n",
        "#both pump's behavior very similar"
      ],
      "execution_count": null,
      "outputs": [
        {
          "output_type": "display_data",
          "data": {
            "image/png": "[encoded data removed]",
            "text/plain": [
              "<Figure size 977.625x900 with 25 Axes>"
            ]
          },
          "metadata": {
            "tags": [],
            "needs_background": "light"
          }
        }
      ]
    },
    {
      "cell_type": "code",
      "metadata": {
        "id": "1srMuntDY5Jm",
        "colab": {
          "base_uri": "https://localhost:8080/",
          "height": 1000
        },
        "outputId": "32bdf1a7-2dce-4f71-9ff8-5b08bb4e4de9"
      },
      "source": [
        "#Plots for pump condition vs sensors readings\r\n",
        "#This graphs help to understand the thresholds.\r\n",
        "#Failure labels were created based on thresholds. A value above that threshold indicates a failure.\r\n",
        "\r\n",
        "\r\n",
        "pyplot.ylabel(\"CONDITION\")\r\n",
        "pyplot.xlabel(\"Housing temperature\")\r\n",
        "pyplot.scatter(vp_data[\"Housing temperature\"],vp_data[\"CONDITION\"], c='red')\r\n",
        "pyplot.show()\r\n",
        "\r\n",
        "pyplot.ylabel(\"CONDITION\")\r\n",
        "pyplot.xlabel(\"Discharge Temperature\")\r\n",
        "pyplot.scatter(vp_data[\"Discharge Temperature\"],vp_data[\"CONDITION\"], c='red')\r\n",
        "pyplot.show()\r\n",
        "\r\n",
        "pyplot.ylabel(\"CONDITION\")\r\n",
        "pyplot.xlabel(\"Inlet Temperature\")\r\n",
        "pyplot.scatter(vp_data[\"Inlet Temperature\"],vp_data[\"CONDITION\"], c='red')\r\n",
        "pyplot.show()\r\n",
        "\r\n",
        "\r\n",
        "pyplot.ylabel(\"CONDITION\")\r\n",
        "pyplot.xlabel(\"Discharge Pressure\")\r\n",
        "pyplot.scatter(vp_data[\"Discharge Pressure\"],vp_data[\"CONDITION\"], c='red')\r\n",
        "pyplot.show()\r\n",
        "\r\n",
        "pyplot.ylabel(\"CONDITION\")\r\n",
        "pyplot.xlabel(\"Vibration\")\r\n",
        "pyplot.scatter(vp_data[\"Vibration\"],vp_data[\"CONDITION\"], c='red')\r\n",
        "pyplot.show()"
      ],
      "execution_count": null,
      "outputs": [
        {
          "output_type": "display_data",
          "data": {
            "image/png": "[encoded data removed]",
            "text/plain": [
              "<Figure size 432x288 with 1 Axes>"
            ]
          },
          "metadata": {
            "tags": [],
            "needs_background": "light"
          }
        },
        {
          "output_type": "display_data",
          "data": {
            "image/png": "[encoded data removed]",
            "text/plain": [
              "<Figure size 432x288 with 1 Axes>"
            ]
          },
          "metadata": {
            "tags": [],
            "needs_background": "light"
          }
        },
        {
          "output_type": "display_data",
          "data": {
            "image/png": "[encoded data removed]",
            "text/plain": [
              "<Figure size 432x288 with 1 Axes>"
            ]
          },
          "metadata": {
            "tags": [],
            "needs_background": "light"
          }
        },
        {
          "output_type": "display_data",
          "data": {
            "image/png": "[encoded data removed]",
            "text/plain": [
              "<Figure size 432x288 with 1 Axes>"
            ]
          },
          "metadata": {
            "tags": [],
            "needs_background": "light"
          }
        },
        {
          "output_type": "display_data",
          "data": {
            "image/png": "[encoded data removed]",
            "text/plain": [
              "<Figure size 432x288 with 1 Axes>"
            ]
          },
          "metadata": {
            "tags": [],
            "needs_background": "light"
          }
        }
      ]
    },
    {
      "cell_type": "code",
      "metadata": {
        "colab": {
          "base_uri": "https://localhost:8080/",
          "height": 665
        },
        "id": "ThKvLQ8zRlCj",
        "outputId": "a39a6ff0-80cc-45bf-a190-885b66282c19"
      },
      "source": [
        "#correlation heatmap, in red colours\r\n",
        "\r\n",
        "pyplot.figure(figsize=(9,9))\r\n",
        "sns.heatmap(vp_data.corr(),annot=True, cmap=\"Reds\")"
      ],
      "execution_count": 70,
      "outputs": [
        {
          "output_type": "execute_result",
          "data": {
            "text/plain": [
              "<matplotlib.axes._subplots.AxesSubplot at 0x7f14f0ef32e8>"
            ]
          },
          "metadata": {
            "tags": []
          },
          "execution_count": 70
        },
        {
          "output_type": "display_data",
          "data": {
            "image/png": "[encoded data removed]",
            "text/plain": [
              "<Figure size 648x648 with 2 Axes>"
            ]
          },
          "metadata": {
            "tags": [],
            "needs_background": "light"
          }
        }
      ]
    },
    {
      "cell_type": "markdown",
      "metadata": {
        "id": "3vxgbb13fQgW"
      },
      "source": [
        "##Data Preparation for ML"
      ]
    },
    {
      "cell_type": "markdown",
      "metadata": {
        "id": "4Z5CjYaqhbu0"
      },
      "source": [
        "Create a new dataflame for the ML model "
      ]
    },
    {
      "cell_type": "code",
      "metadata": {
        "id": "35hTEIQJigem"
      },
      "source": [
        "#Creating a new DataFrame\r\n",
        "\r\n",
        "vp_data2 = pd.read_csv(\"VP DATASET CLEAN3.csv\")"
      ],
      "execution_count": 4,
      "outputs": []
    },
    {
      "cell_type": "markdown",
      "metadata": {
        "id": "JtnmoX88rFXL"
      },
      "source": [
        "Rename columns, drop Date column and replace texts (objects) for numbers (int)"
      ]
    },
    {
      "cell_type": "code",
      "metadata": {
        "id": "TB0vHDYhsNMB"
      },
      "source": [
        "vp_data2 = vp_data2.rename(columns={'Fault LABEL': 'Fault'})"
      ],
      "execution_count": 5,
      "outputs": []
    },
    {
      "cell_type": "code",
      "metadata": {
        "id": "SZkVIHF6tU30"
      },
      "source": [
        "del vp_data2['Date']"
      ],
      "execution_count": 6,
      "outputs": []
    },
    {
      "cell_type": "code",
      "metadata": {
        "id": "cN0uZCUNkALb"
      },
      "source": [
        "vp_data2.loc[(vp_data2.Equipment == 'VP-1132'),'Equipment']=1\r\n",
        "vp_data2.loc[(vp_data2.Equipment == 'VP-1082'),'Equipment']=2\r\n",
        "\r\n",
        "\r\n",
        "vp_data2.loc[(vp_data2.CONDITION == 'STOP'),'CONDITION']=0\r\n",
        "vp_data2.loc[(vp_data2.CONDITION == 'RUNNING'),'CONDITION']=1\r\n",
        "vp_data2.loc[(vp_data2.CONDITION == 'FAULT'),'CONDITION']=2\r\n",
        "\r\n",
        "vp_data2.loc[(vp_data2.Fault == 'NO FAULT'),'Fault']=0\r\n",
        "vp_data2.loc[(vp_data2.Fault == 'Purge Gas low flow'),'Fault']=1\r\n",
        "vp_data2.loc[(vp_data2.Fault == 'High Inlet temperature'),'Fault']=2\r\n",
        "vp_data2.loc[(vp_data2.Fault == 'High Housing temperature'),'Fault']=3\r\n",
        "vp_data2.loc[(vp_data2.Fault == 'High Discharge temperature'),'Fault']=4\r\n",
        "vp_data2.loc[(vp_data2.Fault == 'Barrier Gas low flow'),'Fault']=5\r\n",
        "vp_data2.loc[(vp_data2.Fault == 'Ballast Gas low flow'),'Fault']=6\r\n",
        "\r\n"
      ],
      "execution_count": 7,
      "outputs": []
    },
    {
      "cell_type": "markdown",
      "metadata": {
        "id": "J6G7t3CZwlYv"
      },
      "source": [
        "Convert object into numeric"
      ]
    },
    {
      "cell_type": "code",
      "metadata": {
        "colab": {
          "base_uri": "https://localhost:8080/"
        },
        "id": "s2Bt7ZYtvU5d",
        "outputId": "98982710-9991-4158-c840-bcedad5fae01"
      },
      "source": [
        "vp_data2['Equipment'].astype(str).astype(int)\r\n",
        "vp_data2['CONDITION'].astype(str).astype(int)\r\n",
        "vp_data2['Fault'].astype(str).astype(int)"
      ],
      "execution_count": 8,
      "outputs": [
        {
          "output_type": "execute_result",
          "data": {
            "text/plain": [
              "0         0\n",
              "1         0\n",
              "2         0\n",
              "3         0\n",
              "4         0\n",
              "         ..\n",
              "958959    0\n",
              "958960    0\n",
              "958961    0\n",
              "958962    0\n",
              "958963    0\n",
              "Name: Fault, Length: 958964, dtype: int64"
            ]
          },
          "metadata": {
            "tags": []
          },
          "execution_count": 8
        }
      ]
    },
    {
      "cell_type": "code",
      "metadata": {
        "colab": {
          "base_uri": "https://localhost:8080/",
          "height": 453
        },
        "id": "-3MIYLcrQjZB",
        "outputId": "4fe86ae5-9332-42d7-db8b-d96a5b2ed910"
      },
      "source": [
        "#replace infinite values for Nan and NaN values with the mean:\r\n",
        "\r\n",
        "vp_data2.replace([np.inf, -np.inf], np.nan)\r\n",
        "vp_data2.fillna(vp_data2.mean())\r\n"
      ],
      "execution_count": 9,
      "outputs": [
        {
          "output_type": "execute_result",
          "data": {
            "text/html": [
              "<div>\n",
              "<style scoped>\n",
              "    .dataframe tbody tr th:only-of-type {\n",
              "        vertical-align: middle;\n",
              "    }\n",
              "\n",
              "    .dataframe tbody tr th {\n",
              "        vertical-align: top;\n",
              "    }\n",
              "\n",
              "    .dataframe thead th {\n",
              "        text-align: right;\n",
              "    }\n",
              "</style>\n",
              "<table border=\"1\" class=\"dataframe\">\n",
              "  <thead>\n",
              "    <tr style=\"text-align: right;\">\n",
              "      <th></th>\n",
              "      <th>Equipment</th>\n",
              "      <th>Inlet Temperature</th>\n",
              "      <th>Housing temperature</th>\n",
              "      <th>Discharge Temperature</th>\n",
              "      <th>Discharge Pressure</th>\n",
              "      <th>Vibration</th>\n",
              "      <th>CONDITION</th>\n",
              "      <th>Fault</th>\n",
              "      <th>Fault (Y/N)</th>\n",
              "      <th>TTF</th>\n",
              "    </tr>\n",
              "  </thead>\n",
              "  <tbody>\n",
              "    <tr>\n",
              "      <th>0</th>\n",
              "      <td>1</td>\n",
              "      <td>7.234</td>\n",
              "      <td>7.234</td>\n",
              "      <td>7.191</td>\n",
              "      <td>-12.508</td>\n",
              "      <td>0.0001</td>\n",
              "      <td>0</td>\n",
              "      <td>0</td>\n",
              "      <td>0</td>\n",
              "      <td>221865</td>\n",
              "    </tr>\n",
              "    <tr>\n",
              "      <th>1</th>\n",
              "      <td>1</td>\n",
              "      <td>7.234</td>\n",
              "      <td>7.234</td>\n",
              "      <td>7.191</td>\n",
              "      <td>-12.508</td>\n",
              "      <td>0.0001</td>\n",
              "      <td>0</td>\n",
              "      <td>0</td>\n",
              "      <td>0</td>\n",
              "      <td>221860</td>\n",
              "    </tr>\n",
              "    <tr>\n",
              "      <th>2</th>\n",
              "      <td>1</td>\n",
              "      <td>7.234</td>\n",
              "      <td>7.234</td>\n",
              "      <td>7.191</td>\n",
              "      <td>-12.508</td>\n",
              "      <td>0.0001</td>\n",
              "      <td>0</td>\n",
              "      <td>0</td>\n",
              "      <td>0</td>\n",
              "      <td>221855</td>\n",
              "    </tr>\n",
              "    <tr>\n",
              "      <th>3</th>\n",
              "      <td>1</td>\n",
              "      <td>7.234</td>\n",
              "      <td>7.234</td>\n",
              "      <td>7.191</td>\n",
              "      <td>-12.508</td>\n",
              "      <td>0.0001</td>\n",
              "      <td>0</td>\n",
              "      <td>0</td>\n",
              "      <td>0</td>\n",
              "      <td>221850</td>\n",
              "    </tr>\n",
              "    <tr>\n",
              "      <th>4</th>\n",
              "      <td>1</td>\n",
              "      <td>7.234</td>\n",
              "      <td>7.234</td>\n",
              "      <td>7.191</td>\n",
              "      <td>-12.508</td>\n",
              "      <td>0.0001</td>\n",
              "      <td>0</td>\n",
              "      <td>0</td>\n",
              "      <td>0</td>\n",
              "      <td>221845</td>\n",
              "    </tr>\n",
              "    <tr>\n",
              "      <th>...</th>\n",
              "      <td>...</td>\n",
              "      <td>...</td>\n",
              "      <td>...</td>\n",
              "      <td>...</td>\n",
              "      <td>...</td>\n",
              "      <td>...</td>\n",
              "      <td>...</td>\n",
              "      <td>...</td>\n",
              "      <td>...</td>\n",
              "      <td>...</td>\n",
              "    </tr>\n",
              "    <tr>\n",
              "      <th>958959</th>\n",
              "      <td>2</td>\n",
              "      <td>20.595</td>\n",
              "      <td>108.409</td>\n",
              "      <td>80.148</td>\n",
              "      <td>-4.649</td>\n",
              "      <td>0.0356</td>\n",
              "      <td>1</td>\n",
              "      <td>0</td>\n",
              "      <td>0</td>\n",
              "      <td>25</td>\n",
              "    </tr>\n",
              "    <tr>\n",
              "      <th>958960</th>\n",
              "      <td>2</td>\n",
              "      <td>20.595</td>\n",
              "      <td>108.301</td>\n",
              "      <td>80.148</td>\n",
              "      <td>-4.268</td>\n",
              "      <td>0.0354</td>\n",
              "      <td>1</td>\n",
              "      <td>0</td>\n",
              "      <td>0</td>\n",
              "      <td>20</td>\n",
              "    </tr>\n",
              "    <tr>\n",
              "      <th>958961</th>\n",
              "      <td>2</td>\n",
              "      <td>20.595</td>\n",
              "      <td>108.301</td>\n",
              "      <td>80.084</td>\n",
              "      <td>-3.433</td>\n",
              "      <td>0.0347</td>\n",
              "      <td>1</td>\n",
              "      <td>0</td>\n",
              "      <td>0</td>\n",
              "      <td>15</td>\n",
              "    </tr>\n",
              "    <tr>\n",
              "      <th>958962</th>\n",
              "      <td>2</td>\n",
              "      <td>20.595</td>\n",
              "      <td>108.373</td>\n",
              "      <td>80.113</td>\n",
              "      <td>-4.149</td>\n",
              "      <td>0.0359</td>\n",
              "      <td>1</td>\n",
              "      <td>0</td>\n",
              "      <td>0</td>\n",
              "      <td>10</td>\n",
              "    </tr>\n",
              "    <tr>\n",
              "      <th>958963</th>\n",
              "      <td>2</td>\n",
              "      <td>20.524</td>\n",
              "      <td>108.373</td>\n",
              "      <td>80.120</td>\n",
              "      <td>-4.406</td>\n",
              "      <td>0.0339</td>\n",
              "      <td>1</td>\n",
              "      <td>0</td>\n",
              "      <td>0</td>\n",
              "      <td>5</td>\n",
              "    </tr>\n",
              "  </tbody>\n",
              "</table>\n",
              "<p>958964 rows × 10 columns</p>\n",
              "</div>"
            ],
            "text/plain": [
              "        Equipment  Inlet Temperature  ...  Fault (Y/N)     TTF\n",
              "0               1              7.234  ...            0  221865\n",
              "1               1              7.234  ...            0  221860\n",
              "2               1              7.234  ...            0  221855\n",
              "3               1              7.234  ...            0  221850\n",
              "4               1              7.234  ...            0  221845\n",
              "...           ...                ...  ...          ...     ...\n",
              "958959          2             20.595  ...            0      25\n",
              "958960          2             20.595  ...            0      20\n",
              "958961          2             20.595  ...            0      15\n",
              "958962          2             20.595  ...            0      10\n",
              "958963          2             20.524  ...            0       5\n",
              "\n",
              "[958964 rows x 10 columns]"
            ]
          },
          "metadata": {
            "tags": []
          },
          "execution_count": 9
        }
      ]
    },
    {
      "cell_type": "code",
      "metadata": {
        "colab": {
          "base_uri": "https://localhost:8080/"
        },
        "id": "OuV8hhI_Xi-d",
        "outputId": "562ac934-dd37-41ab-df66-462b5684148c"
      },
      "source": [
        "np.isnan(vp_data2.any())"
      ],
      "execution_count": null,
      "outputs": [
        {
          "output_type": "execute_result",
          "data": {
            "text/plain": [
              "Equipment                False\n",
              "Inlet Temperature        False\n",
              "Housing temperature      False\n",
              "Discharge Temperature    False\n",
              "Discharge Pressure       False\n",
              "Vibration                False\n",
              "CONDITION                False\n",
              "Fault                    False\n",
              "Fault (Y/N)              False\n",
              "TTF                      False\n",
              "dtype: bool"
            ]
          },
          "metadata": {
            "tags": []
          },
          "execution_count": 12
        }
      ]
    },
    {
      "cell_type": "code",
      "metadata": {
        "colab": {
          "base_uri": "https://localhost:8080/"
        },
        "id": "A6_mfm_iXv1k",
        "outputId": "ff2f564e-4ee9-4ddd-954c-d5378d860f5a"
      },
      "source": [
        "#No inf values\r\n",
        "np.isfinite(vp_data2.all())"
      ],
      "execution_count": null,
      "outputs": [
        {
          "output_type": "execute_result",
          "data": {
            "text/plain": [
              "Equipment                True\n",
              "Inlet Temperature        True\n",
              "Housing temperature      True\n",
              "Discharge Temperature    True\n",
              "Discharge Pressure       True\n",
              "Vibration                True\n",
              "CONDITION                True\n",
              "Fault                    True\n",
              "Fault (Y/N)              True\n",
              "TTF                      True\n",
              "dtype: bool"
            ]
          },
          "metadata": {
            "tags": []
          },
          "execution_count": 13
        }
      ]
    },
    {
      "cell_type": "code",
      "metadata": {
        "colab": {
          "base_uri": "https://localhost:8080/",
          "height": 217
        },
        "id": "LjiNetJHhnIr",
        "outputId": "3052fe00-bda4-4f46-cff9-b628f11f545f"
      },
      "source": [
        "vp_data2.head()"
      ],
      "execution_count": null,
      "outputs": [
        {
          "output_type": "execute_result",
          "data": {
            "text/html": [
              "<div>\n",
              "<style scoped>\n",
              "    .dataframe tbody tr th:only-of-type {\n",
              "        vertical-align: middle;\n",
              "    }\n",
              "\n",
              "    .dataframe tbody tr th {\n",
              "        vertical-align: top;\n",
              "    }\n",
              "\n",
              "    .dataframe thead th {\n",
              "        text-align: right;\n",
              "    }\n",
              "</style>\n",
              "<table border=\"1\" class=\"dataframe\">\n",
              "  <thead>\n",
              "    <tr style=\"text-align: right;\">\n",
              "      <th></th>\n",
              "      <th>Equipment</th>\n",
              "      <th>Inlet Temperature</th>\n",
              "      <th>Housing temperature</th>\n",
              "      <th>Discharge Temperature</th>\n",
              "      <th>Discharge Pressure</th>\n",
              "      <th>Vibration</th>\n",
              "      <th>CONDITION</th>\n",
              "      <th>Fault</th>\n",
              "      <th>Fault (Y/N)</th>\n",
              "      <th>TTF</th>\n",
              "    </tr>\n",
              "  </thead>\n",
              "  <tbody>\n",
              "    <tr>\n",
              "      <th>0</th>\n",
              "      <td>1</td>\n",
              "      <td>7.234</td>\n",
              "      <td>7.234</td>\n",
              "      <td>7.191</td>\n",
              "      <td>-12.508</td>\n",
              "      <td>0.0001</td>\n",
              "      <td>0</td>\n",
              "      <td>0</td>\n",
              "      <td>0</td>\n",
              "      <td>221865</td>\n",
              "    </tr>\n",
              "    <tr>\n",
              "      <th>1</th>\n",
              "      <td>1</td>\n",
              "      <td>7.234</td>\n",
              "      <td>7.234</td>\n",
              "      <td>7.191</td>\n",
              "      <td>-12.508</td>\n",
              "      <td>0.0001</td>\n",
              "      <td>0</td>\n",
              "      <td>0</td>\n",
              "      <td>0</td>\n",
              "      <td>221860</td>\n",
              "    </tr>\n",
              "    <tr>\n",
              "      <th>2</th>\n",
              "      <td>1</td>\n",
              "      <td>7.234</td>\n",
              "      <td>7.234</td>\n",
              "      <td>7.191</td>\n",
              "      <td>-12.508</td>\n",
              "      <td>0.0001</td>\n",
              "      <td>0</td>\n",
              "      <td>0</td>\n",
              "      <td>0</td>\n",
              "      <td>221855</td>\n",
              "    </tr>\n",
              "    <tr>\n",
              "      <th>3</th>\n",
              "      <td>1</td>\n",
              "      <td>7.234</td>\n",
              "      <td>7.234</td>\n",
              "      <td>7.191</td>\n",
              "      <td>-12.508</td>\n",
              "      <td>0.0001</td>\n",
              "      <td>0</td>\n",
              "      <td>0</td>\n",
              "      <td>0</td>\n",
              "      <td>221850</td>\n",
              "    </tr>\n",
              "    <tr>\n",
              "      <th>4</th>\n",
              "      <td>1</td>\n",
              "      <td>7.234</td>\n",
              "      <td>7.234</td>\n",
              "      <td>7.191</td>\n",
              "      <td>-12.508</td>\n",
              "      <td>0.0001</td>\n",
              "      <td>0</td>\n",
              "      <td>0</td>\n",
              "      <td>0</td>\n",
              "      <td>221845</td>\n",
              "    </tr>\n",
              "  </tbody>\n",
              "</table>\n",
              "</div>"
            ],
            "text/plain": [
              "  Equipment  Inlet Temperature  Housing temperature  ...  Fault  Fault (Y/N)     TTF\n",
              "0         1              7.234                7.234  ...      0            0  221865\n",
              "1         1              7.234                7.234  ...      0            0  221860\n",
              "2         1              7.234                7.234  ...      0            0  221855\n",
              "3         1              7.234                7.234  ...      0            0  221850\n",
              "4         1              7.234                7.234  ...      0            0  221845\n",
              "\n",
              "[5 rows x 10 columns]"
            ]
          },
          "metadata": {
            "tags": []
          },
          "execution_count": 15
        }
      ]
    },
    {
      "cell_type": "markdown",
      "metadata": {
        "id": "abkpUV1DwgbF"
      },
      "source": [
        "# Build Models"
      ]
    },
    {
      "cell_type": "markdown",
      "metadata": {
        "id": "IcAyEH-I1q63"
      },
      "source": [
        "For this project, we will build 2 different models:\r\n",
        "\r\n",
        "*   Classification models to predict failure within a given time window\r\n",
        "*   Regression models to predict remaining time to failure (TTF) in minutes (also called Remaining useful lifetime - RUL).\r\n",
        "\r\n",
        "In general, what regression and classification models are doing is modelling the relationship between features and the degradation path of the system. That means that if the model is applied to a system that will exhibit a different type of failure not present in the training data, the model will fail to predict it."
      ]
    },
    {
      "cell_type": "markdown",
      "metadata": {
        "id": "FZ3q1217zMw3"
      },
      "source": [
        "### Classification Models to predict failure within a given time window"
      ]
    },
    {
      "cell_type": "markdown",
      "metadata": {
        "id": "tTFciKe_zQP_"
      },
      "source": [
        "It can be extremely challenging to create a model that can accurately predict the lifetime of a machine. However, in reality, often the maintenance team only needs to know if the machine will fail anytime soon. In order to do so, we can use the classification model to predict a failure within the next 'N' minutes (where N = any number).\r\n",
        "\r\n",
        "For this project we will try to predict if a machine fails in the next **60 minutes**. \r\n",
        "\r\n",
        "In this case, we will use a classification model.\r\n",
        "\r\n",
        "Classification models can deal with multiple types of failure, as long as they are framed as a multi-class problem. Predictive maintenance makes use of multi-class classification since there are multiple possible causes for the failure of a machine or component.\r\n",
        "\r\n",
        "Multi-class classification techniques can be used for two scenarios:\r\n",
        "\r\n",
        "*   The first outcome is a range of time to failure for an asset. The asset is assigned to one of multiple possible periods. The second outcome is the likelihood of failure in a future period due to one of the multiple root causes. This prediction enables the maintenance crew to watch for symptoms and plan maintenance schedules.\r\n"
      ]
    },
    {
      "cell_type": "markdown",
      "metadata": {
        "id": "imhv3RV5eFPQ"
      },
      "source": [
        "#### Shuffle and Split the dataset\r\n"
      ]
    },
    {
      "cell_type": "markdown",
      "metadata": {
        "id": "pN2wJ_Hetark"
      },
      "source": [
        "Before split the data, we will shuffle the data."
      ]
    },
    {
      "cell_type": "code",
      "metadata": {
        "id": "FoBXXDvvj-nA"
      },
      "source": [
        "#create shuffled dataset\r\n",
        "data_shuffled1 = vp_data2.sample(frac=1.0, random_state=0)"
      ],
      "execution_count": 10,
      "outputs": []
    },
    {
      "cell_type": "code",
      "metadata": {
        "id": "fs3duqtrtmAY",
        "colab": {
          "base_uri": "https://localhost:8080/",
          "height": 239
        },
        "outputId": "0687bdb0-bf19-4ebe-c00c-1d9503ba75f0"
      },
      "source": [
        "#preview shuffled data\r\n",
        "data_shuffled1.head()"
      ],
      "execution_count": 11,
      "outputs": [
        {
          "output_type": "execute_result",
          "data": {
            "text/html": [
              "<div>\n",
              "<style scoped>\n",
              "    .dataframe tbody tr th:only-of-type {\n",
              "        vertical-align: middle;\n",
              "    }\n",
              "\n",
              "    .dataframe tbody tr th {\n",
              "        vertical-align: top;\n",
              "    }\n",
              "\n",
              "    .dataframe thead th {\n",
              "        text-align: right;\n",
              "    }\n",
              "</style>\n",
              "<table border=\"1\" class=\"dataframe\">\n",
              "  <thead>\n",
              "    <tr style=\"text-align: right;\">\n",
              "      <th></th>\n",
              "      <th>Equipment</th>\n",
              "      <th>Inlet Temperature</th>\n",
              "      <th>Housing temperature</th>\n",
              "      <th>Discharge Temperature</th>\n",
              "      <th>Discharge Pressure</th>\n",
              "      <th>Vibration</th>\n",
              "      <th>CONDITION</th>\n",
              "      <th>Fault</th>\n",
              "      <th>Fault (Y/N)</th>\n",
              "      <th>TTF</th>\n",
              "    </tr>\n",
              "  </thead>\n",
              "  <tbody>\n",
              "    <tr>\n",
              "      <th>627643</th>\n",
              "      <td>2</td>\n",
              "      <td>24.916</td>\n",
              "      <td>105.812</td>\n",
              "      <td>77.352</td>\n",
              "      <td>12.861</td>\n",
              "      <td>0.0368</td>\n",
              "      <td>1</td>\n",
              "      <td>0</td>\n",
              "      <td>0</td>\n",
              "      <td>28460</td>\n",
              "    </tr>\n",
              "    <tr>\n",
              "      <th>556340</th>\n",
              "      <td>2</td>\n",
              "      <td>5.797</td>\n",
              "      <td>6.083</td>\n",
              "      <td>5.868</td>\n",
              "      <td>-5.593</td>\n",
              "      <td>0.0012</td>\n",
              "      <td>0</td>\n",
              "      <td>0</td>\n",
              "      <td>0</td>\n",
              "      <td>10175</td>\n",
              "    </tr>\n",
              "    <tr>\n",
              "      <th>134023</th>\n",
              "      <td>1</td>\n",
              "      <td>12.148</td>\n",
              "      <td>12.205</td>\n",
              "      <td>11.841</td>\n",
              "      <td>-7.606</td>\n",
              "      <td>0.0004</td>\n",
              "      <td>0</td>\n",
              "      <td>0</td>\n",
              "      <td>0</td>\n",
              "      <td>12585</td>\n",
              "    </tr>\n",
              "    <tr>\n",
              "      <th>913246</th>\n",
              "      <td>2</td>\n",
              "      <td>6.884</td>\n",
              "      <td>7.721</td>\n",
              "      <td>7.384</td>\n",
              "      <td>-3.161</td>\n",
              "      <td>0.0011</td>\n",
              "      <td>0</td>\n",
              "      <td>0</td>\n",
              "      <td>0</td>\n",
              "      <td>46635</td>\n",
              "    </tr>\n",
              "    <tr>\n",
              "      <th>651075</th>\n",
              "      <td>2</td>\n",
              "      <td>19.158</td>\n",
              "      <td>103.910</td>\n",
              "      <td>74.834</td>\n",
              "      <td>3.514</td>\n",
              "      <td>0.0354</td>\n",
              "      <td>1</td>\n",
              "      <td>0</td>\n",
              "      <td>0</td>\n",
              "      <td>101435</td>\n",
              "    </tr>\n",
              "  </tbody>\n",
              "</table>\n",
              "</div>"
            ],
            "text/plain": [
              "       Equipment  Inlet Temperature  ...  Fault (Y/N)     TTF\n",
              "627643         2             24.916  ...            0   28460\n",
              "556340         2              5.797  ...            0   10175\n",
              "134023         1             12.148  ...            0   12585\n",
              "913246         2              6.884  ...            0   46635\n",
              "651075         2             19.158  ...            0  101435\n",
              "\n",
              "[5 rows x 10 columns]"
            ]
          },
          "metadata": {
            "tags": []
          },
          "execution_count": 11
        }
      ]
    },
    {
      "cell_type": "markdown",
      "metadata": {
        "id": "90koViG_kNr7"
      },
      "source": [
        "To predict the failure within 60 min, first we will add a new column to 'data_shuffled1' to indicate if the pump will fail within 60 minutes based on the time to failure 'TTF' column. Where 'TTF' = Time to Failure in minutes"
      ]
    },
    {
      "cell_type": "code",
      "metadata": {
        "colab": {
          "base_uri": "https://localhost:8080/",
          "height": 257
        },
        "id": "sYxexNocPN5w",
        "outputId": "75e710e5-a77e-4141-efe7-6dc21f3ab438"
      },
      "source": [
        "data_shuffled1['Fail within 60min'] = np.where(data_shuffled1['TTF'] > 60, 0, 1)\r\n",
        "data_shuffled1.head()"
      ],
      "execution_count": 12,
      "outputs": [
        {
          "output_type": "execute_result",
          "data": {
            "text/html": [
              "<div>\n",
              "<style scoped>\n",
              "    .dataframe tbody tr th:only-of-type {\n",
              "        vertical-align: middle;\n",
              "    }\n",
              "\n",
              "    .dataframe tbody tr th {\n",
              "        vertical-align: top;\n",
              "    }\n",
              "\n",
              "    .dataframe thead th {\n",
              "        text-align: right;\n",
              "    }\n",
              "</style>\n",
              "<table border=\"1\" class=\"dataframe\">\n",
              "  <thead>\n",
              "    <tr style=\"text-align: right;\">\n",
              "      <th></th>\n",
              "      <th>Equipment</th>\n",
              "      <th>Inlet Temperature</th>\n",
              "      <th>Housing temperature</th>\n",
              "      <th>Discharge Temperature</th>\n",
              "      <th>Discharge Pressure</th>\n",
              "      <th>Vibration</th>\n",
              "      <th>CONDITION</th>\n",
              "      <th>Fault</th>\n",
              "      <th>Fault (Y/N)</th>\n",
              "      <th>TTF</th>\n",
              "      <th>Fail within 60min</th>\n",
              "    </tr>\n",
              "  </thead>\n",
              "  <tbody>\n",
              "    <tr>\n",
              "      <th>627643</th>\n",
              "      <td>2</td>\n",
              "      <td>24.916</td>\n",
              "      <td>105.812</td>\n",
              "      <td>77.352</td>\n",
              "      <td>12.861</td>\n",
              "      <td>0.0368</td>\n",
              "      <td>1</td>\n",
              "      <td>0</td>\n",
              "      <td>0</td>\n",
              "      <td>28460</td>\n",
              "      <td>0</td>\n",
              "    </tr>\n",
              "    <tr>\n",
              "      <th>556340</th>\n",
              "      <td>2</td>\n",
              "      <td>5.797</td>\n",
              "      <td>6.083</td>\n",
              "      <td>5.868</td>\n",
              "      <td>-5.593</td>\n",
              "      <td>0.0012</td>\n",
              "      <td>0</td>\n",
              "      <td>0</td>\n",
              "      <td>0</td>\n",
              "      <td>10175</td>\n",
              "      <td>0</td>\n",
              "    </tr>\n",
              "    <tr>\n",
              "      <th>134023</th>\n",
              "      <td>1</td>\n",
              "      <td>12.148</td>\n",
              "      <td>12.205</td>\n",
              "      <td>11.841</td>\n",
              "      <td>-7.606</td>\n",
              "      <td>0.0004</td>\n",
              "      <td>0</td>\n",
              "      <td>0</td>\n",
              "      <td>0</td>\n",
              "      <td>12585</td>\n",
              "      <td>0</td>\n",
              "    </tr>\n",
              "    <tr>\n",
              "      <th>913246</th>\n",
              "      <td>2</td>\n",
              "      <td>6.884</td>\n",
              "      <td>7.721</td>\n",
              "      <td>7.384</td>\n",
              "      <td>-3.161</td>\n",
              "      <td>0.0011</td>\n",
              "      <td>0</td>\n",
              "      <td>0</td>\n",
              "      <td>0</td>\n",
              "      <td>46635</td>\n",
              "      <td>0</td>\n",
              "    </tr>\n",
              "    <tr>\n",
              "      <th>651075</th>\n",
              "      <td>2</td>\n",
              "      <td>19.158</td>\n",
              "      <td>103.910</td>\n",
              "      <td>74.834</td>\n",
              "      <td>3.514</td>\n",
              "      <td>0.0354</td>\n",
              "      <td>1</td>\n",
              "      <td>0</td>\n",
              "      <td>0</td>\n",
              "      <td>101435</td>\n",
              "      <td>0</td>\n",
              "    </tr>\n",
              "  </tbody>\n",
              "</table>\n",
              "</div>"
            ],
            "text/plain": [
              "       Equipment  Inlet Temperature  ...     TTF  Fail within 60min\n",
              "627643         2             24.916  ...   28460                  0\n",
              "556340         2              5.797  ...   10175                  0\n",
              "134023         1             12.148  ...   12585                  0\n",
              "913246         2              6.884  ...   46635                  0\n",
              "651075         2             19.158  ...  101435                  0\n",
              "\n",
              "[5 rows x 11 columns]"
            ]
          },
          "metadata": {
            "tags": []
          },
          "execution_count": 12
        }
      ]
    },
    {
      "cell_type": "markdown",
      "metadata": {
        "id": "K24wJftC_yGP"
      },
      "source": [
        "We will remove some unnecessary columns to facilitate the analysis."
      ]
    },
    {
      "cell_type": "code",
      "metadata": {
        "colab": {
          "base_uri": "https://localhost:8080/",
          "height": 219
        },
        "id": "bjbqMnTW-_6k",
        "outputId": "07da9389-ae09-4ae3-f84b-9a261e5056a5"
      },
      "source": [
        "selected_columns1 = ['Inlet Temperature', 'Housing temperature', 'Discharge Temperature', 'Discharge Pressure', 'Vibration','Fail within 60min']\r\n",
        "data_shuffled1 = data_shuffled1[selected_columns1]\r\n",
        "data_shuffled1 = data_shuffled1.dropna()\r\n",
        "data_shuffled1.head()"
      ],
      "execution_count": 13,
      "outputs": [
        {
          "output_type": "execute_result",
          "data": {
            "text/html": [
              "<div>\n",
              "<style scoped>\n",
              "    .dataframe tbody tr th:only-of-type {\n",
              "        vertical-align: middle;\n",
              "    }\n",
              "\n",
              "    .dataframe tbody tr th {\n",
              "        vertical-align: top;\n",
              "    }\n",
              "\n",
              "    .dataframe thead th {\n",
              "        text-align: right;\n",
              "    }\n",
              "</style>\n",
              "<table border=\"1\" class=\"dataframe\">\n",
              "  <thead>\n",
              "    <tr style=\"text-align: right;\">\n",
              "      <th></th>\n",
              "      <th>Inlet Temperature</th>\n",
              "      <th>Housing temperature</th>\n",
              "      <th>Discharge Temperature</th>\n",
              "      <th>Discharge Pressure</th>\n",
              "      <th>Vibration</th>\n",
              "      <th>Fail within 60min</th>\n",
              "    </tr>\n",
              "  </thead>\n",
              "  <tbody>\n",
              "    <tr>\n",
              "      <th>627643</th>\n",
              "      <td>24.916</td>\n",
              "      <td>105.812</td>\n",
              "      <td>77.352</td>\n",
              "      <td>12.861</td>\n",
              "      <td>0.0368</td>\n",
              "      <td>0</td>\n",
              "    </tr>\n",
              "    <tr>\n",
              "      <th>556340</th>\n",
              "      <td>5.797</td>\n",
              "      <td>6.083</td>\n",
              "      <td>5.868</td>\n",
              "      <td>-5.593</td>\n",
              "      <td>0.0012</td>\n",
              "      <td>0</td>\n",
              "    </tr>\n",
              "    <tr>\n",
              "      <th>134023</th>\n",
              "      <td>12.148</td>\n",
              "      <td>12.205</td>\n",
              "      <td>11.841</td>\n",
              "      <td>-7.606</td>\n",
              "      <td>0.0004</td>\n",
              "      <td>0</td>\n",
              "    </tr>\n",
              "    <tr>\n",
              "      <th>913246</th>\n",
              "      <td>6.884</td>\n",
              "      <td>7.721</td>\n",
              "      <td>7.384</td>\n",
              "      <td>-3.161</td>\n",
              "      <td>0.0011</td>\n",
              "      <td>0</td>\n",
              "    </tr>\n",
              "    <tr>\n",
              "      <th>651075</th>\n",
              "      <td>19.158</td>\n",
              "      <td>103.910</td>\n",
              "      <td>74.834</td>\n",
              "      <td>3.514</td>\n",
              "      <td>0.0354</td>\n",
              "      <td>0</td>\n",
              "    </tr>\n",
              "  </tbody>\n",
              "</table>\n",
              "</div>"
            ],
            "text/plain": [
              "        Inlet Temperature  Housing temperature  ...  Vibration  Fail within 60min\n",
              "627643             24.916              105.812  ...     0.0368                  0\n",
              "556340              5.797                6.083  ...     0.0012                  0\n",
              "134023             12.148               12.205  ...     0.0004                  0\n",
              "913246              6.884                7.721  ...     0.0011                  0\n",
              "651075             19.158              103.910  ...     0.0354                  0\n",
              "\n",
              "[5 rows x 6 columns]"
            ]
          },
          "metadata": {
            "tags": []
          },
          "execution_count": 13
        }
      ]
    },
    {
      "cell_type": "code",
      "metadata": {
        "colab": {
          "base_uri": "https://localhost:8080/"
        },
        "id": "HbiB7U0CMP83",
        "outputId": "9c611892-c423-4565-e8d3-75a88b179c18"
      },
      "source": [
        "data_shuffled1.info()"
      ],
      "execution_count": 14,
      "outputs": [
        {
          "output_type": "stream",
          "text": [
            "<class 'pandas.core.frame.DataFrame'>\n",
            "Int64Index: 958964 entries, 627643 to 305711\n",
            "Data columns (total 6 columns):\n",
            " #   Column                 Non-Null Count   Dtype  \n",
            "---  ------                 --------------   -----  \n",
            " 0   Inlet Temperature      958964 non-null  float64\n",
            " 1   Housing temperature    958964 non-null  float64\n",
            " 2   Discharge Temperature  958964 non-null  float64\n",
            " 3   Discharge Pressure     958964 non-null  float64\n",
            " 4   Vibration              958964 non-null  float64\n",
            " 5   Fail within 60min      958964 non-null  int64  \n",
            "dtypes: float64(5), int64(1)\n",
            "memory usage: 51.2 MB\n"
          ],
          "name": "stdout"
        }
      ]
    },
    {
      "cell_type": "code",
      "metadata": {
        "colab": {
          "base_uri": "https://localhost:8080/",
          "height": 219
        },
        "id": "aAknDZ7xWaUE",
        "outputId": "16dbc262-2e1e-4cf3-8035-d63478da3915"
      },
      "source": [
        "data_shuffled1.head()"
      ],
      "execution_count": 15,
      "outputs": [
        {
          "output_type": "execute_result",
          "data": {
            "text/html": [
              "<div>\n",
              "<style scoped>\n",
              "    .dataframe tbody tr th:only-of-type {\n",
              "        vertical-align: middle;\n",
              "    }\n",
              "\n",
              "    .dataframe tbody tr th {\n",
              "        vertical-align: top;\n",
              "    }\n",
              "\n",
              "    .dataframe thead th {\n",
              "        text-align: right;\n",
              "    }\n",
              "</style>\n",
              "<table border=\"1\" class=\"dataframe\">\n",
              "  <thead>\n",
              "    <tr style=\"text-align: right;\">\n",
              "      <th></th>\n",
              "      <th>Inlet Temperature</th>\n",
              "      <th>Housing temperature</th>\n",
              "      <th>Discharge Temperature</th>\n",
              "      <th>Discharge Pressure</th>\n",
              "      <th>Vibration</th>\n",
              "      <th>Fail within 60min</th>\n",
              "    </tr>\n",
              "  </thead>\n",
              "  <tbody>\n",
              "    <tr>\n",
              "      <th>627643</th>\n",
              "      <td>24.916</td>\n",
              "      <td>105.812</td>\n",
              "      <td>77.352</td>\n",
              "      <td>12.861</td>\n",
              "      <td>0.0368</td>\n",
              "      <td>0</td>\n",
              "    </tr>\n",
              "    <tr>\n",
              "      <th>556340</th>\n",
              "      <td>5.797</td>\n",
              "      <td>6.083</td>\n",
              "      <td>5.868</td>\n",
              "      <td>-5.593</td>\n",
              "      <td>0.0012</td>\n",
              "      <td>0</td>\n",
              "    </tr>\n",
              "    <tr>\n",
              "      <th>134023</th>\n",
              "      <td>12.148</td>\n",
              "      <td>12.205</td>\n",
              "      <td>11.841</td>\n",
              "      <td>-7.606</td>\n",
              "      <td>0.0004</td>\n",
              "      <td>0</td>\n",
              "    </tr>\n",
              "    <tr>\n",
              "      <th>913246</th>\n",
              "      <td>6.884</td>\n",
              "      <td>7.721</td>\n",
              "      <td>7.384</td>\n",
              "      <td>-3.161</td>\n",
              "      <td>0.0011</td>\n",
              "      <td>0</td>\n",
              "    </tr>\n",
              "    <tr>\n",
              "      <th>651075</th>\n",
              "      <td>19.158</td>\n",
              "      <td>103.910</td>\n",
              "      <td>74.834</td>\n",
              "      <td>3.514</td>\n",
              "      <td>0.0354</td>\n",
              "      <td>0</td>\n",
              "    </tr>\n",
              "  </tbody>\n",
              "</table>\n",
              "</div>"
            ],
            "text/plain": [
              "        Inlet Temperature  Housing temperature  ...  Vibration  Fail within 60min\n",
              "627643             24.916              105.812  ...     0.0368                  0\n",
              "556340              5.797                6.083  ...     0.0012                  0\n",
              "134023             12.148               12.205  ...     0.0004                  0\n",
              "913246              6.884                7.721  ...     0.0011                  0\n",
              "651075             19.158              103.910  ...     0.0354                  0\n",
              "\n",
              "[5 rows x 6 columns]"
            ]
          },
          "metadata": {
            "tags": []
          },
          "execution_count": 15
        }
      ]
    },
    {
      "cell_type": "markdown",
      "metadata": {
        "id": "ixPnm_dkzd_H"
      },
      "source": [
        "#### Create a Validation Dataset"
      ]
    },
    {
      "cell_type": "markdown",
      "metadata": {
        "id": "Ey3O1pE4zs62"
      },
      "source": [
        "Split the loaded dataset into two, 80% of which we will use to train, evaluate and select among our models, and 20% that we will hold back as a validation dataset."
      ]
    },
    {
      "cell_type": "code",
      "metadata": {
        "id": "XStFPRdnV23B"
      },
      "source": [
        "# Separate the input and output columns.\n",
        "X = data_shuffled1.drop('Fail within 60min', axis=1)\n",
        "# For the output, we'll use the Fail within 60min column\n",
        "Y = data_shuffled1['Fail within 60min']\n"
      ],
      "execution_count": 16,
      "outputs": []
    },
    {
      "cell_type": "code",
      "metadata": {
        "id": "--PbgZRufbxR"
      },
      "source": [
        "# Partition the data into training and test sets.\n",
        "# Split the data set into training set and test set, with 80% and 20% respectively. \n",
        "\n",
        "Xtrain, Xtest, Ytrain, Ytest = train_test_split(X, Y, test_size=0.2, random_state=0)"
      ],
      "execution_count": 17,
      "outputs": []
    },
    {
      "cell_type": "markdown",
      "metadata": {
        "id": "dm-fvz3ouUfM"
      },
      "source": [
        "Now we have training data in the Xtrain and Ytrain for preparing models and a Xtest and Ytest sets that we can use later.\r\n",
        "As expected, we can see that there are 958964 rows of data with 5 input variables and the dataset is split into train and test sets and we can see that there are 767171 rows for training and 191793 rows for the test set."
      ]
    },
    {
      "cell_type": "code",
      "metadata": {
        "colab": {
          "base_uri": "https://localhost:8080/"
        },
        "id": "oeFmEveXuV9z",
        "outputId": "85cfb612-a49d-4a69-87d8-1f9683cf5283"
      },
      "source": [
        "# summarizes X and Y shape\r\n",
        "print(X.shape, Y.shape)\r\n",
        "\r\n",
        "# summarizes Xtrain, Xtest, Ytrain, Ytest\r\n",
        "print(Xtrain.shape, Xtest.shape, Ytrain.shape, Ytest.shape)"
      ],
      "execution_count": null,
      "outputs": [
        {
          "output_type": "stream",
          "text": [
            "(958964, 5) (958964,)\n",
            "(767171, 5) (191793, 5) (767171,) (191793,)\n"
          ],
          "name": "stdout"
        }
      ]
    },
    {
      "cell_type": "markdown",
      "metadata": {
        "id": "p4g74uNpvDyn"
      },
      "source": [
        "#### Classification Models"
      ]
    },
    {
      "cell_type": "code",
      "metadata": {
        "colab": {
          "base_uri": "https://localhost:8080/"
        },
        "id": "jNm5oBReVtF6",
        "outputId": "5acf3860-c540-499e-faec-0ed9c9ec061e"
      },
      "source": [
        "from sklearn.dummy import DummyClassifier\r\n",
        "from sklearn.model_selection import cross_val_score\r\n",
        "\r\n",
        "clf = DummyClassifier(strategy='most_frequent')\r\n",
        "cross_val_score(clf, Xtrain, Ytrain)\r\n",
        "\r\n"
      ],
      "execution_count": null,
      "outputs": [
        {
          "output_type": "execute_result",
          "data": {
            "text/plain": [
              "array([0.99785577, 0.99786227, 0.99785576, 0.99785576, 0.99785576])"
            ]
          },
          "metadata": {
            "tags": []
          },
          "execution_count": 42
        }
      ]
    },
    {
      "cell_type": "markdown",
      "metadata": {
        "id": "9jKpQw9y8aKJ"
      },
      "source": [
        "#####The Tree-based classifier using DecisionTreeClassifier"
      ]
    },
    {
      "cell_type": "code",
      "metadata": {
        "colab": {
          "base_uri": "https://localhost:8080/"
        },
        "id": "90enSbSIqQcI",
        "outputId": "98bcad85-9581-4e00-a3e5-70f5daa75798"
      },
      "source": [
        "from sklearn import tree\r\n",
        "from sklearn.model_selection import cross_val_score\r\n",
        "\r\n",
        "dtc = tree.DecisionTreeClassifier()\r\n",
        "dtc.fit(Xtrain, Ytrain)\r\n",
        "dtc_acc = cross_val_score(dtc, Xtrain, Ytrain, cv=5, scoring='accuracy').mean()\r\n",
        "dtc_recall = cross_val_score(dtc, Xtrain, Ytrain, cv=5, scoring='recall').mean()\r\n",
        "\r\n",
        "print(\"DecisionTreeClassifier Accuracy =\", dtc_acc)\r\n",
        "print(\"DecisionTreeClassifier Recall =\", dtc_recall)"
      ],
      "execution_count": 58,
      "outputs": [
        {
          "output_type": "stream",
          "text": [
            "DecisionTreeClassifier Accuracy = 0.9977280164230942\n",
            "DecisionTreeClassifier Recall = 0.45561939357995407\n"
          ],
          "name": "stdout"
        }
      ]
    },
    {
      "cell_type": "markdown",
      "metadata": {
        "id": "_oyGxwZ0FAQ0"
      },
      "source": [
        "##### The Tree-based classifier using RandomForestClassifier"
      ]
    },
    {
      "cell_type": "code",
      "metadata": {
        "colab": {
          "base_uri": "https://localhost:8080/"
        },
        "id": "ZJjBLvstE7T4",
        "outputId": "b3c0ac72-715a-444e-be83-0570cf6888ec"
      },
      "source": [
        "from sklearn import ensemble\r\n",
        "from sklearn.model_selection import cross_val_score\r\n",
        "\r\n",
        "rfc = ensemble.RandomForestClassifier()\r\n",
        "rfc.fit(Xtrain, Ytrain)\r\n",
        "rcf_acc = cross_val_score(rfc, Xtrain, Ytrain, cv=5, scoring='accuracy').mean()\r\n",
        "rcf_recall = cross_val_score(rfc, Xtrain, Ytrain, cv=5, scoring='recall').mean()\r\n",
        "\r\n",
        "print(\"RandomForestClassifier Accuracy =\", rcf_acc)\r\n",
        "print(\"RandomForestClassifier Recall =\", rcf_recall)"
      ],
      "execution_count": 57,
      "outputs": [
        {
          "output_type": "stream",
          "text": [
            "RandomForestClassifier Accuracy = 0.9984384186077204\n",
            "RandomForestClassifier Recall = 0.29683816443027655\n"
          ],
          "name": "stdout"
        }
      ]
    },
    {
      "cell_type": "markdown",
      "metadata": {
        "id": "wrL7kmCFFO5a"
      },
      "source": [
        "#####The Tree-based classifier using GradientBoostingClassifier"
      ]
    },
    {
      "cell_type": "code",
      "metadata": {
        "colab": {
          "base_uri": "https://localhost:8080/"
        },
        "id": "P2h9qm0PrVYi",
        "outputId": "3b790848-f371-43cb-d9fd-53836f2dcb43"
      },
      "source": [
        "from sklearn import ensemble\r\n",
        "gbc = ensemble.GradientBoostingClassifier()\r\n",
        "gbc.fit(Xtrain, Ytrain)\r\n",
        "gbc_acc = cross_val_score(gbc, Xtrain, Ytrain, cv=5, scoring='accuracy').mean()\r\n",
        "gbc_recall = cross_val_score(gbc, Xtrain, Ytrain, cv=5, scoring='recall').mean()\r\n",
        "\r\n",
        "print(\"GradientBoostingClassifier Accuracy =\", gbc_acc)\r\n",
        "print(\"GradientBoostingClassifier Recall =\", gbc_recall)"
      ],
      "execution_count": 121,
      "outputs": [
        {
          "output_type": "stream",
          "text": [
            "GradientBoostingClassifier = 0.9979144154556694\n",
            "GradientBoostingClassifier = 0.09488286752168433\n"
          ],
          "name": "stdout"
        }
      ]
    },
    {
      "cell_type": "markdown",
      "metadata": {
        "id": "4Sl1v4KkFWVG"
      },
      "source": [
        "#####Linear classifier using Perceptron"
      ]
    },
    {
      "cell_type": "code",
      "metadata": {
        "colab": {
          "base_uri": "https://localhost:8080/"
        },
        "id": "o5gzPl3wFYDH",
        "outputId": "0ff58216-59ef-41e2-d055-3191ea9d297d"
      },
      "source": [
        "from sklearn import linear_model\r\n",
        "lmp = linear_model.Perceptron()\r\n",
        "lmp.fit(Xtrain, Ytrain)\r\n",
        "lmp_acc = cross_val_score(lmp, Xtrain, Ytrain, cv=5, scoring='accuracy').mean()\r\n",
        "lmp_recall = cross_val_score(lmp, Xtrain, Ytrain, cv=5, scoring='recall').mean()\r\n",
        "\r\n",
        "print(\"Linear Model Perceptron Accuracy =\", lmp_acc)\r\n",
        "print(\"Linear Model Perceptron Recall =\", lmp_recall)"
      ],
      "execution_count": 122,
      "outputs": [
        {
          "output_type": "stream",
          "text": [
            "Linear Model Perceptron Accuracy = 0.9978635793164884\n",
            "Linear Model Perceptron Recall = 0.0030432204018088814\n"
          ],
          "name": "stdout"
        }
      ]
    },
    {
      "cell_type": "markdown",
      "metadata": {
        "id": "4_nnCJYIFcMB"
      },
      "source": [
        "#####Linear classifier using LogisticRegression"
      ]
    },
    {
      "cell_type": "code",
      "metadata": {
        "colab": {
          "base_uri": "https://localhost:8080/"
        },
        "id": "16qGVHpYFZsw",
        "outputId": "b379f520-3040-4dfa-ed18-5a13f98089e1"
      },
      "source": [
        "from sklearn.model_selection import cross_val_score\r\n",
        "from sklearn.linear_model import LogisticRegression\r\n",
        "lclr = LogisticRegression(solver='newton-cg', max_iter=5000)\r\n",
        "lclr = lclr.fit(Xtrain,Ytrain)\r\n",
        "lclr_acc = cross_val_score(lclr, Xtrain, Ytrain, cv=5, scoring='accuracy').mean()\r\n",
        "lclr_recall = cross_val_score(lclr, Xtrain, Ytrain, cv=5, scoring='recall').mean()\r\n",
        "\r\n",
        "print(\"LogisticRegression Accuracy =\", lclr_acc)\r\n",
        "print(\"LogisticRegression Recall =\", lclr_recall)"
      ],
      "execution_count": 123,
      "outputs": [
        {
          "output_type": "stream",
          "text": [
            "/usr/local/lib/python3.6/dist-packages/scipy/optimize/linesearch.py:426: LineSearchWarning: Rounding errors prevent the line search from converging\n",
            "  warn(msg, LineSearchWarning)\n",
            "/usr/local/lib/python3.6/dist-packages/scipy/optimize/linesearch.py:314: LineSearchWarning: The line search algorithm did not converge\n",
            "  warn('The line search algorithm did not converge', LineSearchWarning)\n",
            "/usr/local/lib/python3.6/dist-packages/sklearn/utils/optimize.py:204: UserWarning: Line Search failed\n",
            "  warnings.warn('Line Search failed')\n",
            "/usr/local/lib/python3.6/dist-packages/scipy/optimize/linesearch.py:426: LineSearchWarning: Rounding errors prevent the line search from converging\n",
            "  warn(msg, LineSearchWarning)\n",
            "/usr/local/lib/python3.6/dist-packages/scipy/optimize/linesearch.py:314: LineSearchWarning: The line search algorithm did not converge\n",
            "  warn('The line search algorithm did not converge', LineSearchWarning)\n",
            "/usr/local/lib/python3.6/dist-packages/sklearn/utils/optimize.py:204: UserWarning: Line Search failed\n",
            "  warnings.warn('Line Search failed')\n"
          ],
          "name": "stderr"
        },
        {
          "output_type": "stream",
          "text": [
            "LogisticRegression Accuracy = 0.99788052468772\n",
            "LogisticRegression Recall = 0.01095522277411224\n"
          ],
          "name": "stdout"
        }
      ]
    },
    {
      "cell_type": "markdown",
      "metadata": {
        "id": "GJC2pDtiFhiy"
      },
      "source": [
        "#####Linear classifier using LinearSVC"
      ]
    },
    {
      "cell_type": "code",
      "metadata": {
        "id": "xffDWo_UNivT",
        "colab": {
          "base_uri": "https://localhost:8080/"
        },
        "outputId": "2c7ddab6-ae8c-4b89-8fc6-f6b41d3fd652"
      },
      "source": [
        "from sklearn import svm\r\n",
        "from sklearn.model_selection import cross_val_score\r\n",
        "\r\n",
        "svc = svm.LinearSVC(max_iter=5000)\r\n",
        "svc.fit(Xtrain, Ytrain)\r\n",
        "svc_acc = cross_val_score(svc, Xtrain, Ytrain, cv=5, scoring='accuracy').mean()\r\n",
        "svc_recall = cross_val_score(svc, Xtrain, Ytrain, cv=5, scoring='recall').mean()\r\n",
        "\r\n",
        "print(\"LinearSVC Accuracy =\", svc_acc)\r\n",
        "print(\"LinearSVC Recall =\", svc_recall)"
      ],
      "execution_count": 125,
      "outputs": [
        {
          "output_type": "stream",
          "text": [
            "/usr/local/lib/python3.6/dist-packages/sklearn/svm/_base.py:947: ConvergenceWarning: Liblinear failed to converge, increase the number of iterations.\n",
            "  \"the number of iterations.\", ConvergenceWarning)\n",
            "/usr/local/lib/python3.6/dist-packages/sklearn/svm/_base.py:947: ConvergenceWarning: Liblinear failed to converge, increase the number of iterations.\n",
            "  \"the number of iterations.\", ConvergenceWarning)\n",
            "/usr/local/lib/python3.6/dist-packages/sklearn/svm/_base.py:947: ConvergenceWarning: Liblinear failed to converge, increase the number of iterations.\n",
            "  \"the number of iterations.\", ConvergenceWarning)\n",
            "/usr/local/lib/python3.6/dist-packages/sklearn/svm/_base.py:947: ConvergenceWarning: Liblinear failed to converge, increase the number of iterations.\n",
            "  \"the number of iterations.\", ConvergenceWarning)\n",
            "/usr/local/lib/python3.6/dist-packages/sklearn/svm/_base.py:947: ConvergenceWarning: Liblinear failed to converge, increase the number of iterations.\n",
            "  \"the number of iterations.\", ConvergenceWarning)\n",
            "/usr/local/lib/python3.6/dist-packages/sklearn/svm/_base.py:947: ConvergenceWarning: Liblinear failed to converge, increase the number of iterations.\n",
            "  \"the number of iterations.\", ConvergenceWarning)\n",
            "/usr/local/lib/python3.6/dist-packages/sklearn/svm/_base.py:947: ConvergenceWarning: Liblinear failed to converge, increase the number of iterations.\n",
            "  \"the number of iterations.\", ConvergenceWarning)\n",
            "/usr/local/lib/python3.6/dist-packages/sklearn/svm/_base.py:947: ConvergenceWarning: Liblinear failed to converge, increase the number of iterations.\n",
            "  \"the number of iterations.\", ConvergenceWarning)\n",
            "/usr/local/lib/python3.6/dist-packages/sklearn/svm/_base.py:947: ConvergenceWarning: Liblinear failed to converge, increase the number of iterations.\n",
            "  \"the number of iterations.\", ConvergenceWarning)\n",
            "/usr/local/lib/python3.6/dist-packages/sklearn/svm/_base.py:947: ConvergenceWarning: Liblinear failed to converge, increase the number of iterations.\n",
            "  \"the number of iterations.\", ConvergenceWarning)\n"
          ],
          "name": "stderr"
        },
        {
          "output_type": "stream",
          "text": [
            "LinearSVC Accuracy = 0.9978570618562124\n",
            "LinearSVC Recall = 0.0\n"
          ],
          "name": "stdout"
        },
        {
          "output_type": "stream",
          "text": [
            "/usr/local/lib/python3.6/dist-packages/sklearn/svm/_base.py:947: ConvergenceWarning: Liblinear failed to converge, increase the number of iterations.\n",
            "  \"the number of iterations.\", ConvergenceWarning)\n"
          ],
          "name": "stderr"
        }
      ]
    },
    {
      "cell_type": "markdown",
      "metadata": {
        "id": "NdU7Zb4tFmmB"
      },
      "source": [
        "#####Linear classifier using MLPClassifier"
      ]
    },
    {
      "cell_type": "code",
      "metadata": {
        "id": "iePyAao7Fl-7",
        "colab": {
          "base_uri": "https://localhost:8080/"
        },
        "outputId": "2b464a37-7e6d-441e-b735-f1414967c48f"
      },
      "source": [
        "from sklearn import neural_network\r\n",
        "mlp = neural_network.MLPClassifier()\r\n",
        "mlp.fit(Xtrain, Ytrain)\r\n",
        "mpl_acc = cross_val_score(mlp, Xtrain, Ytrain, cv=5, scoring='accuracy').mean()\r\n",
        "mpl_recall = cross_val_score(mlp, Xtrain, Ytrain, cv=5, scoring='recall').mean()\r\n",
        "\r\n",
        "print(\"MLPClassifier Accuracy =\", mpl_acc)\r\n",
        "print(\"MLPClassifier Recall =\", mpl_recall)"
      ],
      "execution_count": 131,
      "outputs": [
        {
          "output_type": "stream",
          "text": [
            "MLPClassifier Accuracy = 0.9979287538257999\n",
            "MLPClassifier Recall = 0.036503817925717254\n"
          ],
          "name": "stdout"
        }
      ]
    },
    {
      "cell_type": "markdown",
      "metadata": {
        "id": "2HQ7HiGt6VkP"
      },
      "source": [
        "####Final Evaluation"
      ]
    },
    {
      "cell_type": "markdown",
      "metadata": {
        "id": "DeQkkg5akIWJ"
      },
      "source": [
        "#####Select Model"
      ]
    },
    {
      "cell_type": "markdown",
      "metadata": {
        "id": "cLRlfOjqFxXx"
      },
      "source": [
        "Models were evaluated based on the Accuracy and Recall. According to step above, the best **accuracy score** were made using **RandomForestClassifier** and best **Recall Score** using **DecisionTreeClassifier**:\r\n",
        "* DecisionTreeClassifier Accuracy = 99.77%\r\n",
        "* **DecisionTreeClassifier Recall = 45.56%**\r\n",
        "* **RandomForestClassifier Accuracy = 99.84%**\r\n",
        "* RandomForestClassifier Recall = 29.68%\r\n",
        "\r\n",
        "As the dataset is very imbalanced, we will evaluate both models (Decision Tree Classifier and RandomForestClassifier) in the cross-validation evaluation, we will train it on the whole training set and evaluate it on the held-out test set."
      ]
    },
    {
      "cell_type": "code",
      "metadata": {
        "colab": {
          "base_uri": "https://localhost:8080/",
          "height": 301
        },
        "id": "6SkeZzxmcooG",
        "outputId": "a6257d52-7826-4213-9868-78c817f480ee"
      },
      "source": [
        "\r\n",
        "x  = [\"dtc\", \"rcf\", \"gbc\", \"lmp\", \"lclr\", \"svc\", \"mpl\"]\r\n",
        "y1 = [dtc_acc, rcf_acc, gbc_acc, lmp_acc, lclr_acc, svc_acc, mpl_acc]\r\n",
        "y2 = [dtc_recall, rcf_recall, gbc_recall, lmp_recall, lclr_recall, svc_recall, mpl_recall]\r\n",
        "y1label = [dtc_acc, rcf_acc, gbc_acc, lmp_acc, lclr_acc, svc_acc, mpl_acc]\r\n",
        "\r\n",
        "pyplot.plot(x, y1, label=\"Accuracy Score\")\r\n",
        "pyplot.plot(x, y2, label=\"Recall Score\")\r\n",
        "pyplot.plot()\r\n",
        "\r\n",
        "pyplot.xlabel(\"Model\")\r\n",
        "pyplot.ylabel(\"y axis\")\r\n",
        "pyplot.title(\"Model Comparison\")\r\n",
        "pyplot.legend()\r\n",
        "pyplot.show()\r\n"
      ],
      "execution_count": 177,
      "outputs": [
        {
          "output_type": "display_data",
          "data": {
            "image/png": "[encoded data removed]",
            "text/plain": [
              "<Figure size 432x288 with 1 Axes>"
            ]
          },
          "metadata": {
            "tags": []
          }
        }
      ]
    },
    {
      "cell_type": "markdown",
      "metadata": {
        "id": "Icek9f2AkM4Y"
      },
      "source": [
        "#####Evaluate Predictions"
      ]
    },
    {
      "cell_type": "markdown",
      "metadata": {
        "id": "KTYcjhbRGEO2"
      },
      "source": [
        "Now we have found classifiers that gives a high recall and good accuracy in the cross-validation evaluation, we will train it on the whole training set and evaluate it on the held-out test set. "
      ]
    },
    {
      "cell_type": "markdown",
      "metadata": {
        "id": "-bj2MFrbPxtq"
      },
      "source": [
        "######Evaluate Model on the held-out test set"
      ]
    },
    {
      "cell_type": "code",
      "metadata": {
        "colab": {
          "base_uri": "https://localhost:8080/"
        },
        "id": "Rr6nV3IfsJVk",
        "outputId": "8dd743c3-c7cf-4d3c-fa10-7a917b6ed66f"
      },
      "source": [
        "# Evaluate predictions Decision Tree Classifier\r\n",
        "from sklearn import tree\r\n",
        "from sklearn.metrics import recall_score, precision_score, accuracy_score, classification_report\r\n",
        "\r\n",
        "dtc = ensemble.RandomForestClassifier()\r\n",
        "dtc.fit(Xtrain, Ytrain)\r\n",
        "y_scores_rfc = dtc.predict_proba(Xtest)[:, 1]\r\n",
        "dtc_y_p = dtc.predict(Xtest)\r\n",
        "\r\n",
        "acc1 = accuracy_score(Ytest,dtc_y_p)\r\n",
        "recall1 = recall_score(Ytest,dtc_y_p)\r\n",
        "precision1 = precision_score(Ytest,dtc_y_p)\r\n",
        "report1 = classification_report(Ytest,dtc_y_p)\r\n",
        "\r\n",
        "print(acc1)\r\n",
        "print(recall1)\r\n",
        "print(precision1)\r\n",
        "print(report1)"
      ],
      "execution_count": 181,
      "outputs": [
        {
          "output_type": "stream",
          "text": [
            "0.9985140229309725\n",
            "0.3841059602649007\n",
            "0.9666666666666667\n",
            "              precision    recall  f1-score   support\n",
            "\n",
            "           0       1.00      1.00      1.00    191340\n",
            "           1       0.97      0.38      0.55       453\n",
            "\n",
            "    accuracy                           1.00    191793\n",
            "   macro avg       0.98      0.69      0.77    191793\n",
            "weighted avg       1.00      1.00      1.00    191793\n",
            "\n"
          ],
          "name": "stdout"
        }
      ]
    },
    {
      "cell_type": "code",
      "metadata": {
        "colab": {
          "base_uri": "https://localhost:8080/"
        },
        "id": "Hp1rwjJd6PDk",
        "outputId": "625694b9-cbf2-4d1e-dbf2-0071299cd56e"
      },
      "source": [
        "# Evaluate predictions RandomForestClassifier\r\n",
        "from sklearn import ensemble\r\n",
        "from sklearn.metrics import recall_score, precision_score, accuracy_score, classification_report\r\n",
        "\r\n",
        "rfc = ensemble.RandomForestClassifier()\r\n",
        "rfc.fit(Xtrain, Ytrain)\r\n",
        "y_scores_rfc = rfc.predict_proba(Xtest)[:, 1]\r\n",
        "y_p = rfc.predict(Xtest)\r\n",
        "\r\n",
        "acc1 = accuracy_score(Ytest,y_p)\r\n",
        "recall1 = recall_score(Ytest,y_p)\r\n",
        "precision1 = precision_score(Ytest,y_p)\r\n",
        "report1 = classification_report(Ytest,y_p)\r\n",
        "\r\n",
        "print(acc1)\r\n",
        "print(recall1)\r\n",
        "print(precision1)\r\n",
        "print(report1)"
      ],
      "execution_count": 28,
      "outputs": [
        {
          "output_type": "stream",
          "text": [
            "0.9985035950217162\n",
            "0.37527593818984545\n",
            "0.9770114942528736\n",
            "              precision    recall  f1-score   support\n",
            "\n",
            "           0       1.00      1.00      1.00    191340\n",
            "           1       0.98      0.38      0.54       453\n",
            "\n",
            "    accuracy                           1.00    191793\n",
            "   macro avg       0.99      0.69      0.77    191793\n",
            "weighted avg       1.00      1.00      1.00    191793\n",
            "\n"
          ],
          "name": "stdout"
        }
      ]
    },
    {
      "cell_type": "markdown",
      "metadata": {
        "id": "HhLcLnCaPD-v"
      },
      "source": [
        "Based on the evaluation performed above, **Random Forest Classifier** seems to be the best model to choose, as it has the highest accuracy (99,85%) and the recall score came up as the same than Decision Tree Classifier on the test set (38%)."
      ]
    },
    {
      "cell_type": "markdown",
      "metadata": {
        "id": "-FVhkoIhP9J6"
      },
      "source": [
        "######Confusion Matrix"
      ]
    },
    {
      "cell_type": "code",
      "metadata": {
        "colab": {
          "base_uri": "https://localhost:8080/"
        },
        "id": "QCQL4kx2CFwt",
        "outputId": "fce2a86d-d4b8-4326-e0e2-840b683fba66"
      },
      "source": [
        "# confusion_matrix RandomForestClassifier\r\n",
        "from sklearn.metrics import confusion_matrix\r\n",
        "confusion_matrix(Ytest, y_p)"
      ],
      "execution_count": 190,
      "outputs": [
        {
          "output_type": "execute_result",
          "data": {
            "text/plain": [
              "array([[191336,      4],\n",
              "       [   283,    170]])"
            ]
          },
          "metadata": {
            "tags": []
          },
          "execution_count": 190
        }
      ]
    },
    {
      "cell_type": "markdown",
      "metadata": {
        "id": "N1tU2Hk5XCGY"
      },
      "source": [
        "A confusion matrix is a table that is often used to describe the performance of a classification model (or \"classifier\") on a set of test data for which the true values are known. What can we learn from this matrix?\r\n",
        "\r\n",
        "There are two possible predicted classes: \"yes\" and \"no\". As we were predicting the presence of failure within 60 min, \"yes\" would mean a failure, and \"no\" would mean no failure.\r\n",
        "The classifier made a total of 191793 predictions.\r\n",
        "Out of those 191793 cases, the classifier predicted \"yes\" 174 times, and \"no\" 191619 times when in reality it would be 453 \"Yes\" and 191340 \"No\".\r\n",
        "\r\n",
        "This gives us:\r\n",
        "* TP “true positive” for correctly predicted event values = 170\r\n",
        "* FP “false positive” for incorrectly predicted event values = 4\r\n",
        "* TN “true negative” for correctly predicted no-event values = 191336\r\n",
        "* FN “false negative” for incorrectly predicted no-event values = 283\r\n",
        "\r\n",
        "A false positive is “Unecessary Maintenance”. A true positive is “Timely and Appropriate Maintenance”. A false negative is “Machine Runs to Failure”.\r\n"
      ]
    },
    {
      "cell_type": "markdown",
      "metadata": {
        "id": "IBgAbIfleET7"
      },
      "source": [
        "This is a list of rates that are often computed from the confusion matrix:\r\n",
        "\r\n",
        "*  Accuracy: (TP+TN)/total =  0.9985\r\n",
        "* Misclassification Rate (\"Error Rate\"): (FP+FN)/total = 0.001496 \r\n",
        "* True Positive Rate (\"Recall\"): TP/actual yes = 0.38\r\n",
        "* False Positive Rate: FP/actual no = 0.000021\r\n",
        "*\tTrue Negative Rate (\"Specificity\"): TN/actual no = 50/60 = 0.999979 \r\n",
        "*\tPrecision: TP/predicted yes = 0.9770\r\n",
        "*\tPrevalence: actual yes/total = 0.0023\r\n",
        "*\tF Score: 2 x [(Precision x Recall)/(Precision + Recall)] = 0.54"
      ]
    },
    {
      "cell_type": "code",
      "metadata": {
        "colab": {
          "base_uri": "https://localhost:8080/",
          "height": 307
        },
        "id": "MVF6ffVASMcm",
        "outputId": "28c57f33-bd6e-4332-9314-ad464e55e3bc"
      },
      "source": [
        "def plot_conf_matrix (conf_matrix, dtype):\r\n",
        "    class_names = [0,1]\r\n",
        "    fontsize=14\r\n",
        "    df_conf_matrix = pd.DataFrame(\r\n",
        "            conf_matrix, index=class_names, columns=class_names, \r\n",
        "        )\r\n",
        "    fig = pyplot.figure()\r\n",
        "    heatmap = sns.heatmap(df_conf_matrix, annot=True, fmt=\"d\")\r\n",
        "    heatmap.yaxis.set_ticklabels(heatmap.yaxis.get_ticklabels(), rotation=45, ha='right', fontsize=fontsize)\r\n",
        "    heatmap.xaxis.set_ticklabels(heatmap.xaxis.get_ticklabels(), rotation=45, ha='right', fontsize=fontsize)\r\n",
        "    pyplot.ylabel('True label')\r\n",
        "    pyplot.xlabel('Predicted label')\r\n",
        "    pyplot.title('Confusion Matrix for {0}'.format(dtype))\r\n",
        "\r\n",
        "plot_conf_matrix(confusion_matrix(Ytest, y_p), \"Test data\")"
      ],
      "execution_count": 188,
      "outputs": [
        {
          "output_type": "display_data",
          "data": {
            "image/png": "[encoded data removed]",
            "text/plain": [
              "<Figure size 432x288 with 2 Axes>"
            ]
          },
          "metadata": {
            "tags": []
          }
        }
      ]
    },
    {
      "cell_type": "markdown",
      "metadata": {
        "id": "s4Y377TDQCyc"
      },
      "source": [
        "######PR Curve and ROC Curve"
      ]
    },
    {
      "cell_type": "markdown",
      "metadata": {
        "id": "YXSrVzpBFY61"
      },
      "source": [
        "Compare the plots of the PR curve and ROC curve."
      ]
    },
    {
      "cell_type": "code",
      "metadata": {
        "colab": {
          "base_uri": "https://localhost:8080/",
          "height": 256
        },
        "id": "DvaqtjdyPP0z",
        "outputId": "60a80b29-99f7-4393-8215-6d3246c45e37"
      },
      "source": [
        "# Get ROC curve FPR and TPR from true labels vs score values\r\n",
        "#RandomForestClassifier \r\n",
        "from sklearn.metrics import roc_curve, auc\r\n",
        "from sklearn.metrics import precision_recall_curve\r\n",
        "\r\n",
        "y_scores_rfc = rfc.predict_proba(Xtest)[:, 1]\r\n",
        "fpr, tpr, _ = roc_curve(Ytest, y_scores_rfc)\r\n",
        "\r\n",
        "# Calculate ROC Area Under the Curve (AUC) from FPR and TPR data points\r\n",
        "roc_auc = auc(fpr, tpr)\r\n",
        "\r\n",
        "# Calculate precision and recall from true labels vs score values\r\n",
        "precision, recall, _ = precision_recall_curve(Ytest, y_scores_rfc)\r\n",
        "\r\n",
        "pyplot.figure(figsize=(8, 3))\r\n",
        "\r\n",
        "pyplot.subplot(1,2,1)\r\n",
        "lw = 2\r\n",
        "pyplot.plot(fpr, tpr, color='darkorange', lw=lw, label='ROC curve (area = %0.4f)' % roc_auc)\r\n",
        "pyplot.plot([0, 1], [0, 1], color='navy', lw=lw, linestyle='--')\r\n",
        "pyplot.xlim([0.0, 1.0])\r\n",
        "pyplot.ylim([0.0, 1.05])\r\n",
        "pyplot.xlabel('False Positive Rate')\r\n",
        "pyplot.ylabel('True Positive Rate')\r\n",
        "pyplot.title('ROC Curve')\r\n",
        "pyplot.legend(loc=\"lower right\")\r\n",
        "pyplot.grid(True)\r\n",
        "\r\n",
        "pyplot.subplot(1,2,2)\r\n",
        "pyplot.step(recall, precision, color='orange', where='post')\r\n",
        "# pyplot.fill_between(recall, precision, step='post', alpha=0.5, color='orange')\r\n",
        "pyplot.xlabel('Recall')\r\n",
        "pyplot.ylabel('Precision')\r\n",
        "pyplot.ylim([0.0, 1.05])\r\n",
        "pyplot.xlim([0.0, 1.0])\r\n",
        "pyplot.title('Precision Recall Curve')\r\n",
        "pyplot.grid(True)\r\n",
        "\r\n",
        "left  = 0.125  # the left side of the subplots of the figure\r\n",
        "right = 0.9    # the right side of the subplots of the figure\r\n",
        "bottom = 0.1   # the bottom of the subplots of the figure\r\n",
        "top = 0.9      # the top of the subplots of the figure\r\n",
        "wspace = 0.5   # the amount of width reserved for blank space between subplots\r\n",
        "hspace = 0.2   # the amount of height reserved for white space between subplots\r\n",
        "pyplot.subplots_adjust(left, bottom, right, top, wspace, hspace)\r\n",
        "pyplot.show()"
      ],
      "execution_count": 187,
      "outputs": [
        {
          "output_type": "display_data",
          "data": {
            "image/png": "[encoded data removed]",
            "text/plain": [
              "<Figure size 576x216 with 2 Axes>"
            ]
          },
          "metadata": {
            "tags": []
          }
        }
      ]
    },
    {
      "cell_type": "markdown",
      "metadata": {
        "id": "4lPTCLSy0UOL"
      },
      "source": [
        "### Regression models to predict time to failure (TTF) / remaining useful lifetime (RUL)"
      ]
    },
    {
      "cell_type": "markdown",
      "metadata": {
        "id": "GtDuoC5d0xG3"
      },
      "source": [
        "In manufacturing, regression can be used to calculate an estimate for the Remaining Useful Life (RUL) of an asset.\r\n",
        "\r\n",
        "For regression, the most commonly used machine learning algorithm is Linear Regression, being fairly quick and simple to implement, with output that is easy to interpret. \r\n",
        "\r\n",
        "Regression is used when data exists within a range (eg. temperature, weight), which is often the case when dealing with data collected from sensors and we usually model only one type of “path to failure”: if many types of failure are possible and the system’s behavior preceding each one of them differs, one dedicated model should be made for each of them."
      ]
    },
    {
      "cell_type": "markdown",
      "metadata": {
        "id": "5sHu_HA8a4Xx"
      },
      "source": [
        "As the assets under analysis are maintaining using a preventive maintenance strategy and not a \"run to fail\" strategy, we don't have enought data to predict the RUL (Remaining Useful Lifetime), therefore we will use the Time to Failure (TTF) data to perform the regression."
      ]
    },
    {
      "cell_type": "markdown",
      "metadata": {
        "id": "ZhkiFsi5coqV"
      },
      "source": [
        "#### Shuffle and Split the dataset\r\n"
      ]
    },
    {
      "cell_type": "markdown",
      "metadata": {
        "id": "SxuLzqd_csbM"
      },
      "source": [
        "Before split the data, we will shuffle the data."
      ]
    },
    {
      "cell_type": "code",
      "metadata": {
        "id": "2H07aR7fcvJB",
        "colab": {
          "base_uri": "https://localhost:8080/",
          "height": 302
        },
        "outputId": "6f3eafe4-806a-4549-920c-2f0b032f420b"
      },
      "source": [
        "#create shuffled dataset\r\n",
        "data_shuffled2 = vp_data.sample(frac=1.0, random_state=0)\r\n",
        "\r\n",
        "#preview shuffled data\r\n",
        "data_shuffled2.head()"
      ],
      "execution_count": 66,
      "outputs": [
        {
          "output_type": "execute_result",
          "data": {
            "text/html": [
              "<div>\n",
              "<style scoped>\n",
              "    .dataframe tbody tr th:only-of-type {\n",
              "        vertical-align: middle;\n",
              "    }\n",
              "\n",
              "    .dataframe tbody tr th {\n",
              "        vertical-align: top;\n",
              "    }\n",
              "\n",
              "    .dataframe thead th {\n",
              "        text-align: right;\n",
              "    }\n",
              "</style>\n",
              "<table border=\"1\" class=\"dataframe\">\n",
              "  <thead>\n",
              "    <tr style=\"text-align: right;\">\n",
              "      <th></th>\n",
              "      <th>Date</th>\n",
              "      <th>Equipment</th>\n",
              "      <th>Inlet Temperature</th>\n",
              "      <th>Housing temperature</th>\n",
              "      <th>Discharge Temperature</th>\n",
              "      <th>Discharge Pressure</th>\n",
              "      <th>Vibration</th>\n",
              "      <th>CONDITION</th>\n",
              "      <th>Fault LABEL</th>\n",
              "      <th>Fault (Y/N)</th>\n",
              "      <th>TTF</th>\n",
              "    </tr>\n",
              "  </thead>\n",
              "  <tbody>\n",
              "    <tr>\n",
              "      <th>627643</th>\n",
              "      <td>19/12/2025 07:35</td>\n",
              "      <td>VP-1082</td>\n",
              "      <td>24.916</td>\n",
              "      <td>105.812</td>\n",
              "      <td>77.352</td>\n",
              "      <td>12.861</td>\n",
              "      <td>0.0368</td>\n",
              "      <td>RUNNING</td>\n",
              "      <td>NO FAULT</td>\n",
              "      <td>0</td>\n",
              "      <td>28460</td>\n",
              "    </tr>\n",
              "    <tr>\n",
              "      <th>556340</th>\n",
              "      <td>15/04/2025 17:40</td>\n",
              "      <td>VP-1082</td>\n",
              "      <td>5.797</td>\n",
              "      <td>6.083</td>\n",
              "      <td>5.868</td>\n",
              "      <td>-5.593</td>\n",
              "      <td>0.0012</td>\n",
              "      <td>STOP</td>\n",
              "      <td>NO FAULT</td>\n",
              "      <td>0</td>\n",
              "      <td>10175</td>\n",
              "    </tr>\n",
              "    <tr>\n",
              "      <th>134023</th>\n",
              "      <td>10/04/2021 08:35</td>\n",
              "      <td>VP-1132</td>\n",
              "      <td>12.148</td>\n",
              "      <td>12.205</td>\n",
              "      <td>11.841</td>\n",
              "      <td>-7.606</td>\n",
              "      <td>0.0004</td>\n",
              "      <td>STOP</td>\n",
              "      <td>NO FAULT</td>\n",
              "      <td>0</td>\n",
              "      <td>12585</td>\n",
              "    </tr>\n",
              "    <tr>\n",
              "      <th>913246</th>\n",
              "      <td>05/09/2028 23:50</td>\n",
              "      <td>VP-1082</td>\n",
              "      <td>6.884</td>\n",
              "      <td>7.721</td>\n",
              "      <td>7.384</td>\n",
              "      <td>-3.161</td>\n",
              "      <td>0.0011</td>\n",
              "      <td>STOP</td>\n",
              "      <td>NO FAULT</td>\n",
              "      <td>0</td>\n",
              "      <td>46635</td>\n",
              "    </tr>\n",
              "    <tr>\n",
              "      <th>651075</th>\n",
              "      <td>10/03/2026 16:15</td>\n",
              "      <td>VP-1082</td>\n",
              "      <td>19.158</td>\n",
              "      <td>103.910</td>\n",
              "      <td>74.834</td>\n",
              "      <td>3.514</td>\n",
              "      <td>0.0354</td>\n",
              "      <td>RUNNING</td>\n",
              "      <td>NO FAULT</td>\n",
              "      <td>0</td>\n",
              "      <td>101435</td>\n",
              "    </tr>\n",
              "  </tbody>\n",
              "</table>\n",
              "</div>"
            ],
            "text/plain": [
              "                    Date Equipment  ...  Fault (Y/N)     TTF\n",
              "627643  19/12/2025 07:35   VP-1082  ...            0   28460\n",
              "556340  15/04/2025 17:40   VP-1082  ...            0   10175\n",
              "134023  10/04/2021 08:35   VP-1132  ...            0   12585\n",
              "913246  05/09/2028 23:50   VP-1082  ...            0   46635\n",
              "651075  10/03/2026 16:15   VP-1082  ...            0  101435\n",
              "\n",
              "[5 rows x 11 columns]"
            ]
          },
          "metadata": {
            "tags": []
          },
          "execution_count": 66
        }
      ]
    },
    {
      "cell_type": "code",
      "metadata": {
        "id": "EEMnn6y1db23",
        "colab": {
          "base_uri": "https://localhost:8080/",
          "height": 200
        },
        "outputId": "c51231c7-a81f-4585-a027-a019e99811c7"
      },
      "source": [
        "selected_columns2 = ['Inlet Temperature', 'Housing temperature', 'Discharge Temperature', 'Discharge Pressure', 'Vibration','TTF']\r\n",
        "data_shuffled2 = data_shuffled2[selected_columns2]\r\n",
        "data_shuffled2 = data_shuffled2.dropna()\r\n",
        "data_shuffled2.head()"
      ],
      "execution_count": 67,
      "outputs": [
        {
          "output_type": "execute_result",
          "data": {
            "text/html": [
              "<div>\n",
              "<style scoped>\n",
              "    .dataframe tbody tr th:only-of-type {\n",
              "        vertical-align: middle;\n",
              "    }\n",
              "\n",
              "    .dataframe tbody tr th {\n",
              "        vertical-align: top;\n",
              "    }\n",
              "\n",
              "    .dataframe thead th {\n",
              "        text-align: right;\n",
              "    }\n",
              "</style>\n",
              "<table border=\"1\" class=\"dataframe\">\n",
              "  <thead>\n",
              "    <tr style=\"text-align: right;\">\n",
              "      <th></th>\n",
              "      <th>Inlet Temperature</th>\n",
              "      <th>Housing temperature</th>\n",
              "      <th>Discharge Temperature</th>\n",
              "      <th>Discharge Pressure</th>\n",
              "      <th>Vibration</th>\n",
              "      <th>TTF</th>\n",
              "    </tr>\n",
              "  </thead>\n",
              "  <tbody>\n",
              "    <tr>\n",
              "      <th>627643</th>\n",
              "      <td>24.916</td>\n",
              "      <td>105.812</td>\n",
              "      <td>77.352</td>\n",
              "      <td>12.861</td>\n",
              "      <td>0.0368</td>\n",
              "      <td>28460</td>\n",
              "    </tr>\n",
              "    <tr>\n",
              "      <th>556340</th>\n",
              "      <td>5.797</td>\n",
              "      <td>6.083</td>\n",
              "      <td>5.868</td>\n",
              "      <td>-5.593</td>\n",
              "      <td>0.0012</td>\n",
              "      <td>10175</td>\n",
              "    </tr>\n",
              "    <tr>\n",
              "      <th>134023</th>\n",
              "      <td>12.148</td>\n",
              "      <td>12.205</td>\n",
              "      <td>11.841</td>\n",
              "      <td>-7.606</td>\n",
              "      <td>0.0004</td>\n",
              "      <td>12585</td>\n",
              "    </tr>\n",
              "    <tr>\n",
              "      <th>913246</th>\n",
              "      <td>6.884</td>\n",
              "      <td>7.721</td>\n",
              "      <td>7.384</td>\n",
              "      <td>-3.161</td>\n",
              "      <td>0.0011</td>\n",
              "      <td>46635</td>\n",
              "    </tr>\n",
              "    <tr>\n",
              "      <th>651075</th>\n",
              "      <td>19.158</td>\n",
              "      <td>103.910</td>\n",
              "      <td>74.834</td>\n",
              "      <td>3.514</td>\n",
              "      <td>0.0354</td>\n",
              "      <td>101435</td>\n",
              "    </tr>\n",
              "  </tbody>\n",
              "</table>\n",
              "</div>"
            ],
            "text/plain": [
              "        Inlet Temperature  Housing temperature  ...  Vibration     TTF\n",
              "627643             24.916              105.812  ...     0.0368   28460\n",
              "556340              5.797                6.083  ...     0.0012   10175\n",
              "134023             12.148               12.205  ...     0.0004   12585\n",
              "913246              6.884                7.721  ...     0.0011   46635\n",
              "651075             19.158              103.910  ...     0.0354  101435\n",
              "\n",
              "[5 rows x 6 columns]"
            ]
          },
          "metadata": {
            "tags": []
          },
          "execution_count": 67
        }
      ]
    },
    {
      "cell_type": "code",
      "metadata": {
        "colab": {
          "base_uri": "https://localhost:8080/",
          "height": 200
        },
        "id": "o9NzcE4b1XNN",
        "outputId": "0f8eab24-8e19-4abd-f251-b4405ba93990"
      },
      "source": [
        "#convert TTF(min) to TTF(days) \r\n",
        "\r\n",
        "data_shuffled2['TTF'] = data_shuffled2['TTF'] / 1440\r\n",
        "data_shuffled2.head()"
      ],
      "execution_count": 76,
      "outputs": [
        {
          "output_type": "execute_result",
          "data": {
            "text/html": [
              "<div>\n",
              "<style scoped>\n",
              "    .dataframe tbody tr th:only-of-type {\n",
              "        vertical-align: middle;\n",
              "    }\n",
              "\n",
              "    .dataframe tbody tr th {\n",
              "        vertical-align: top;\n",
              "    }\n",
              "\n",
              "    .dataframe thead th {\n",
              "        text-align: right;\n",
              "    }\n",
              "</style>\n",
              "<table border=\"1\" class=\"dataframe\">\n",
              "  <thead>\n",
              "    <tr style=\"text-align: right;\">\n",
              "      <th></th>\n",
              "      <th>Inlet Temperature</th>\n",
              "      <th>Housing temperature</th>\n",
              "      <th>Discharge Temperature</th>\n",
              "      <th>Discharge Pressure</th>\n",
              "      <th>Vibration</th>\n",
              "      <th>TTF</th>\n",
              "    </tr>\n",
              "  </thead>\n",
              "  <tbody>\n",
              "    <tr>\n",
              "      <th>627643</th>\n",
              "      <td>24.916</td>\n",
              "      <td>105.812</td>\n",
              "      <td>77.352</td>\n",
              "      <td>12.861</td>\n",
              "      <td>0.0368</td>\n",
              "      <td>19.763889</td>\n",
              "    </tr>\n",
              "    <tr>\n",
              "      <th>556340</th>\n",
              "      <td>5.797</td>\n",
              "      <td>6.083</td>\n",
              "      <td>5.868</td>\n",
              "      <td>-5.593</td>\n",
              "      <td>0.0012</td>\n",
              "      <td>7.065972</td>\n",
              "    </tr>\n",
              "    <tr>\n",
              "      <th>134023</th>\n",
              "      <td>12.148</td>\n",
              "      <td>12.205</td>\n",
              "      <td>11.841</td>\n",
              "      <td>-7.606</td>\n",
              "      <td>0.0004</td>\n",
              "      <td>8.739583</td>\n",
              "    </tr>\n",
              "    <tr>\n",
              "      <th>913246</th>\n",
              "      <td>6.884</td>\n",
              "      <td>7.721</td>\n",
              "      <td>7.384</td>\n",
              "      <td>-3.161</td>\n",
              "      <td>0.0011</td>\n",
              "      <td>32.385417</td>\n",
              "    </tr>\n",
              "    <tr>\n",
              "      <th>651075</th>\n",
              "      <td>19.158</td>\n",
              "      <td>103.910</td>\n",
              "      <td>74.834</td>\n",
              "      <td>3.514</td>\n",
              "      <td>0.0354</td>\n",
              "      <td>70.440972</td>\n",
              "    </tr>\n",
              "  </tbody>\n",
              "</table>\n",
              "</div>"
            ],
            "text/plain": [
              "        Inlet Temperature  Housing temperature  ...  Vibration        TTF\n",
              "627643             24.916              105.812  ...     0.0368  19.763889\n",
              "556340              5.797                6.083  ...     0.0012   7.065972\n",
              "134023             12.148               12.205  ...     0.0004   8.739583\n",
              "913246              6.884                7.721  ...     0.0011  32.385417\n",
              "651075             19.158              103.910  ...     0.0354  70.440972\n",
              "\n",
              "[5 rows x 6 columns]"
            ]
          },
          "metadata": {
            "tags": []
          },
          "execution_count": 76
        }
      ]
    },
    {
      "cell_type": "code",
      "metadata": {
        "id": "e3M9dXz8-Gb8",
        "colab": {
          "base_uri": "https://localhost:8080/"
        },
        "outputId": "7a3dccbd-e964-459c-ff45-55e3d2a70489"
      },
      "source": [
        "# data_shuffled2 summary \r\n",
        "data_shuffled2.info()"
      ],
      "execution_count": 77,
      "outputs": [
        {
          "output_type": "stream",
          "text": [
            "<class 'pandas.core.frame.DataFrame'>\n",
            "Int64Index: 958964 entries, 627643 to 305711\n",
            "Data columns (total 6 columns):\n",
            " #   Column                 Non-Null Count   Dtype  \n",
            "---  ------                 --------------   -----  \n",
            " 0   Inlet Temperature      958964 non-null  float64\n",
            " 1   Housing temperature    958964 non-null  float64\n",
            " 2   Discharge Temperature  958964 non-null  float64\n",
            " 3   Discharge Pressure     958964 non-null  float64\n",
            " 4   Vibration              958964 non-null  float64\n",
            " 5   TTF                    958964 non-null  float64\n",
            "dtypes: float64(6)\n",
            "memory usage: 51.2 MB\n"
          ],
          "name": "stdout"
        }
      ]
    },
    {
      "cell_type": "markdown",
      "metadata": {
        "id": "PyD1Wr6HQsty"
      },
      "source": [
        "#### Create a Validation Dataset"
      ]
    },
    {
      "cell_type": "markdown",
      "metadata": {
        "id": "ewC6xFNxQzEN"
      },
      "source": [
        "Split the loaded dataset into two, 80% of which we will use to train, evaluate and select among our models, and 20% that we will hold back as a validation dataset."
      ]
    },
    {
      "cell_type": "code",
      "metadata": {
        "id": "5nUQa06QQ6Eg"
      },
      "source": [
        "# Separate the input and output columns.\n",
        "X2 = data_shuffled2.drop('TTF', axis=1)\n",
        "# For the output, we'll use the Time to Failure\n",
        "Y2 = data_shuffled2['TTF']"
      ],
      "execution_count": 78,
      "outputs": []
    },
    {
      "cell_type": "code",
      "metadata": {
        "id": "D67hwetNREfg"
      },
      "source": [
        "# Partition the data into training and test sets.\r\n",
        "# Split the data set into training set and test set, with 80% and 20% respectively. \r\n",
        "\r\n",
        "Xtrain2, Xtest2, Ytrain2, Ytest2 = train_test_split(X2, Y2, test_size=0.2, random_state=0)"
      ],
      "execution_count": 79,
      "outputs": []
    },
    {
      "cell_type": "markdown",
      "metadata": {
        "id": "8ESk1_b8RPth"
      },
      "source": [
        "Now we have training data in the Xtrain and Ytrain for preparing models and a Xtest and Ytest sets that we can use later. As expected, we can see that there are 958964 rows of data with 5 input variables and the dataset is split into train and test sets and we can see that there are 767171 rows for training and 191793 rows for the test set."
      ]
    },
    {
      "cell_type": "code",
      "metadata": {
        "id": "EA2XhZfCRSTV",
        "colab": {
          "base_uri": "https://localhost:8080/"
        },
        "outputId": "2fa39e83-f6f8-46b6-a805-bccefe7dbc00"
      },
      "source": [
        "# summarizes X and Y shape\r\n",
        "print(X2.shape, Y2.shape)\r\n",
        "\r\n",
        "# summarizes Xtrain, Xtest, Ytrain, Ytest\r\n",
        "print(Xtrain2.shape, Xtest2.shape, Ytrain2.shape, Ytest2.shape)"
      ],
      "execution_count": 80,
      "outputs": [
        {
          "output_type": "stream",
          "text": [
            "(958964, 5) (958964,)\n",
            "(767171, 5) (191793, 5) (767171,) (191793,)\n"
          ],
          "name": "stdout"
        }
      ]
    },
    {
      "cell_type": "markdown",
      "metadata": {
        "id": "B0WU7zQ6RaCM"
      },
      "source": [
        "#### Regression Model"
      ]
    },
    {
      "cell_type": "markdown",
      "metadata": {
        "id": "fv7HxF42RkSt"
      },
      "source": [
        "We train a baseline dummy regressor (which always predicts the same value) and evaluate it in a cross-validation setting."
      ]
    },
    {
      "cell_type": "code",
      "metadata": {
        "id": "732jPHGTRm8n",
        "colab": {
          "base_uri": "https://localhost:8080/"
        },
        "outputId": "eb1779bf-4213-417d-cee5-8703a315f5bc"
      },
      "source": [
        "from sklearn.dummy import DummyRegressor\r\n",
        "from sklearn.model_selection import cross_validate\r\n",
        "m1 = DummyRegressor()\r\n",
        "cross_validate(m1, Xtrain2, Ytrain2.astype('int'), scoring='neg_mean_squared_error')"
      ],
      "execution_count": 81,
      "outputs": [
        {
          "output_type": "execute_result",
          "data": {
            "text/plain": [
              "{'fit_time': array([0.02318954, 0.02240419, 0.02214932, 0.02345467, 0.0225327 ]),\n",
              " 'score_time': array([0.00190425, 0.00176215, 0.00174022, 0.00171733, 0.00177097]),\n",
              " 'test_score': array([-2796.55477567, -2806.14695297, -2807.07537617, -2814.85299051,\n",
              "        -2816.24268448])}"
            ]
          },
          "metadata": {
            "tags": []
          },
          "execution_count": 81
        }
      ]
    },
    {
      "cell_type": "markdown",
      "metadata": {
        "id": "WFUd7NHaR4iZ"
      },
      "source": [
        "Now we will replace the dummy regressor with something more meaningful:"
      ]
    },
    {
      "cell_type": "markdown",
      "metadata": {
        "id": "ek4FqTqJSFUq"
      },
      "source": [
        "* Linear Regression\r\n",
        "* Ridge\r\n",
        "* Lasso\r\n",
        "* Decision Tree Regressor\r\n",
        "* Random Forest Regressor\r\n",
        "* Gradient Boosting Regressor\r\n",
        "* MLP Regressor\r\n",
        "\r\n"
      ]
    },
    {
      "cell_type": "code",
      "metadata": {
        "id": "er8b3L4RTCMW",
        "colab": {
          "base_uri": "https://localhost:8080/"
        },
        "outputId": "28f7096b-2c4f-403e-eee7-b16f70f98a56"
      },
      "source": [
        "from sklearn.model_selection import cross_validate\r\n",
        "from sklearn import linear_model\r\n",
        "from sklearn import tree\r\n",
        "from sklearn import ensemble\r\n",
        "from sklearn import neural_network\r\n",
        "classifiers = [\r\n",
        "    linear_model.LinearRegression(),\r\n",
        "    linear_model.Ridge(),\r\n",
        "    linear_model.Lasso(),\r\n",
        "    ensemble.RandomForestRegressor(),\r\n",
        "    ensemble.GradientBoostingRegressor(),\r\n",
        "    neural_network.MLPRegressor()\r\n",
        "]\r\n",
        "\r\n",
        "for item in classifiers:\r\n",
        "    print(item)\r\n",
        "    clf = item\r\n",
        "    print(cross_validate(clf, Xtrain2, Ytrain2.astype('int'), scoring='neg_mean_squared_error', cv=3)['test_score'].mean())"
      ],
      "execution_count": 82,
      "outputs": [
        {
          "output_type": "stream",
          "text": [
            "LinearRegression(copy_X=True, fit_intercept=True, n_jobs=None, normalize=False)\n",
            "-2648.3893942451195\n",
            "Ridge(alpha=1.0, copy_X=True, fit_intercept=True, max_iter=None,\n",
            "      normalize=False, random_state=None, solver='auto', tol=0.001)\n",
            "-2648.426773073972\n",
            "Lasso(alpha=1.0, copy_X=True, fit_intercept=True, max_iter=1000,\n",
            "      normalize=False, positive=False, precompute=False, random_state=None,\n",
            "      selection='cyclic', tol=0.0001, warm_start=False)\n",
            "-2659.102064254243\n",
            "RandomForestRegressor(bootstrap=True, ccp_alpha=0.0, criterion='mse',\n",
            "                      max_depth=None, max_features='auto', max_leaf_nodes=None,\n",
            "                      max_samples=None, min_impurity_decrease=0.0,\n",
            "                      min_impurity_split=None, min_samples_leaf=1,\n",
            "                      min_samples_split=2, min_weight_fraction_leaf=0.0,\n",
            "                      n_estimators=100, n_jobs=None, oob_score=False,\n",
            "                      random_state=None, verbose=0, warm_start=False)\n",
            "-286.82482469971166\n",
            "GradientBoostingRegressor(alpha=0.9, ccp_alpha=0.0, criterion='friedman_mse',\n",
            "                          init=None, learning_rate=0.1, loss='ls', max_depth=3,\n",
            "                          max_features=None, max_leaf_nodes=None,\n",
            "                          min_impurity_decrease=0.0, min_impurity_split=None,\n",
            "                          min_samples_leaf=1, min_samples_split=2,\n",
            "                          min_weight_fraction_leaf=0.0, n_estimators=100,\n",
            "                          n_iter_no_change=None, presort='deprecated',\n",
            "                          random_state=None, subsample=1.0, tol=0.0001,\n",
            "                          validation_fraction=0.1, verbose=0, warm_start=False)\n",
            "-1865.2185506020098\n",
            "MLPRegressor(activation='relu', alpha=0.0001, batch_size='auto', beta_1=0.9,\n",
            "             beta_2=0.999, early_stopping=False, epsilon=1e-08,\n",
            "             hidden_layer_sizes=(100,), learning_rate='constant',\n",
            "             learning_rate_init=0.001, max_fun=15000, max_iter=200,\n",
            "             momentum=0.9, n_iter_no_change=10, nesterovs_momentum=True,\n",
            "             power_t=0.5, random_state=None, shuffle=True, solver='adam',\n",
            "             tol=0.0001, validation_fraction=0.1, verbose=False,\n",
            "             warm_start=False)\n"
          ],
          "name": "stdout"
        },
        {
          "output_type": "stream",
          "text": [
            "/usr/local/lib/python3.6/dist-packages/sklearn/neural_network/_multilayer_perceptron.py:571: ConvergenceWarning: Stochastic Optimizer: Maximum iterations (200) reached and the optimization hasn't converged yet.\n",
            "  % self.max_iter, ConvergenceWarning)\n",
            "/usr/local/lib/python3.6/dist-packages/sklearn/neural_network/_multilayer_perceptron.py:571: ConvergenceWarning: Stochastic Optimizer: Maximum iterations (200) reached and the optimization hasn't converged yet.\n",
            "  % self.max_iter, ConvergenceWarning)\n",
            "/usr/local/lib/python3.6/dist-packages/sklearn/neural_network/_multilayer_perceptron.py:571: ConvergenceWarning: Stochastic Optimizer: Maximum iterations (200) reached and the optimization hasn't converged yet.\n",
            "  % self.max_iter, ConvergenceWarning)\n"
          ],
          "name": "stderr"
        },
        {
          "output_type": "stream",
          "text": [
            "-1767.2940422571967\n"
          ],
          "name": "stdout"
        }
      ]
    },
    {
      "cell_type": "markdown",
      "metadata": {
        "id": "UE8TG5PkSsIA"
      },
      "source": [
        "####Final Evaluation"
      ]
    },
    {
      "cell_type": "markdown",
      "metadata": {
        "id": "9mlURkN-T3ms"
      },
      "source": [
        "#####Select Model"
      ]
    },
    {
      "cell_type": "markdown",
      "metadata": {
        "id": "1VXDjlIdSwCU"
      },
      "source": [
        "According to the negative mean squared error, the best results were made using **RandomForestRegressor** and the error is about **-286.82** [TTF / Days]\r\n",
        "\r\n"
      ]
    },
    {
      "cell_type": "markdown",
      "metadata": {
        "id": "tjs2QntWT-Jk"
      },
      "source": [
        "#####Evaluate Model on the held-out test set"
      ]
    },
    {
      "cell_type": "markdown",
      "metadata": {
        "id": "HnGSiepmUAt8"
      },
      "source": [
        "Finally, train on the full training set and evaluate on the held-out test set."
      ]
    },
    {
      "cell_type": "code",
      "metadata": {
        "id": "pYmSG1EaSyhU",
        "colab": {
          "base_uri": "https://localhost:8080/"
        },
        "outputId": "7ac49374-57c7-476b-9d39-233a70c6a962"
      },
      "source": [
        "from sklearn import ensemble\r\n",
        "from sklearn.metrics import mean_squared_error\r\n",
        "from sklearn.metrics import r2_score\r\n",
        "\r\n",
        "regr = ensemble.RandomForestRegressor() \r\n",
        "regr.fit(Xtrain2, Ytrain2)\r\n",
        "MSE = mean_squared_error(Ytest2, regr.predict(Xtest2))\r\n",
        "\r\n",
        "y2_pred = regr.predict(Xtest2)\r\n",
        "r2 = r2_score(Ytest2, y2_pred)\r\n",
        "\r\n",
        "print('Mean Squared error is ', MSE) \r\n",
        "print('R2 score is ', r2) "
      ],
      "execution_count": 84,
      "outputs": [
        {
          "output_type": "stream",
          "text": [
            "Mean Squared error is  237.36385713169076\n",
            "R2 score is  0.9151666932004677\n"
          ],
          "name": "stdout"
        }
      ]
    },
    {
      "cell_type": "markdown",
      "metadata": {
        "id": "UV9PW6r2UEDA"
      },
      "source": [
        "#####Mean Squared error and R^2 Score"
      ]
    },
    {
      "cell_type": "markdown",
      "metadata": {
        "id": "-inHu7ZWsvzk"
      },
      "source": [
        "Mean Squared error is  237.37 and R2 score is  0.91%"
      ]
    },
    {
      "cell_type": "code",
      "metadata": {
        "colab": {
          "base_uri": "https://localhost:8080/",
          "height": 780
        },
        "id": "T1N7FShJMcNk",
        "outputId": "c203af7a-2044-4594-8e1c-c830355b6527"
      },
      "source": [
        "pyplot.figure(figsize=(25,15))\r\n",
        "pyplot.plot(Ytest2, y2_pred, 'bo')\r\n",
        "pyplot.xlabel('Actual values')\r\n",
        "pyplot.ylabel('Predicted values')\r\n",
        "pyplot.plot(np.unique(Ytest2), np.poly1d(np.polyfit(Ytest2, y2_pred, 1))(np.unique(Ytest2)), 'ro')\r\n",
        "\r\n",
        "plt.text(190, -5, 'R-squared = %0.2f' % r2, fontsize=30)\r\n",
        "plt.show()"
      ],
      "execution_count": 120,
      "outputs": [
        {
          "output_type": "display_data",
          "data": {
            "image/png": "[encoded data removed]",
            "text/plain": [
              "<Figure size 1800x1080 with 1 Axes>"
            ]
          },
          "metadata": {
            "tags": []
          }
        }
      ]
    },
    {
      "cell_type": "markdown",
      "metadata": {
        "id": "xAN55_o1Twaz"
      },
      "source": [
        "#Conclusion"
      ]
    },
    {
      "cell_type": "markdown",
      "metadata": {
        "id": "5hzTc8uYjiEV"
      },
      "source": [
        "This machine learning project have developed two models capable to determine if the equipment likely to failure in the next 60 minutes and to estimate the time until next failure (TTF). In general, what regression and classification models are doing is modelling the relationship between features and the degradation path of the system. That means that if the model is applied to a system that will exhibit a different type of failure not present in the training data, the model will fail to predict it. (Big Data Republic, 2017).\r\n",
        "\r\n",
        "When modelling for Predictive Maintenance, one needs to address the classic problem of modelling with imbalanced data when only a fraction of the data constitutes failure.  This kind of data poses several issues. While normal operations data (i.e. non-failure data) which constitutes most of the data is similar to each other, failure data may be different from one another. Standard methods for feature selection and feature extraction and construction do not work well for imbalanced data (Rossinsky, 2020).\r\n",
        "\r\n",
        "Creating a model which can predict lifetimes very accurate can be very challenging. In practice however, one usually does not need to predict the lifetime very accurate far in the future. Often the maintenance team only needs to know if the machine will fail ‘soon’ (Big Data Republic, 2017).\r\n",
        "\r\n",
        "Based on the classification model evaluation, Random Forest Classifier seems to be the best model to choose, as it has the highest accuracy with 99,85% and the recall score of 38%. The classification model demonstrated capable to predict the results (fail or not fail within 60 minutes) in an accurate manner, moreover the True Positive Rate (Recall) score still relatively low, which may led to undetected failure. The classification model results can be summarized as:\r\n",
        "* True negative is “No maintenance work / machine does not require an intervention”: 99.76%\r\n",
        "* A true positive is “Timely and Appropriate Maintenance”: 0.09%\r\n",
        "* A false positive is “Unnecessary Maintenance”: 0.002%\r\n",
        "* False negative is “Machine Runs to Failure”: 0.15%\r\n",
        "\r\n",
        "Based on the regression model evaluation, Random Forest Classifier seems to be the best model to choose. The regression model is deemed to work, and the r-squared score of 91% indicates a good fit for the model within the data frame, moreover the results cannot easily be utilised by the maintenance department as the TTF (Time to Fail) or Remain Useful live prediction is not accurate, with Mean Squared error of 237.37 days, in other hand, this results may be useful to compare time to fail across other equipment’s within the plant assets. \r\n",
        "\r\n",
        "In a step further, both models can deployed in a real-time data streaming applications.\r\n",
        "\r\n",
        "This project’s results provide valuable insights to the maintenance department to determine the best moment to act to avoid equipment failures and optimise plant performance by avoid unplanned downtime. \tBased on the models discussed on Item 3 and results mentioned on the item 4, it is understand that maintenance resources, plant utilization and plant availability can be optimised and the equipment will not be over-maintained neither under-maintained. And it has demonstrated Machine learning can be successfully applied to optimise maintenance strategies and asset performance, with proven capability to reduce costs, optimise plant performance and resources\r\n",
        "\r\n",
        "Both models analysed as part of this project seem to be useful for a PdM perspective, especially the classification model which seems capable to predict a failure within 60 min. To optimise the maintenance process further, it is recommended to simulate another model capable to predict a failure within a longer time window, such as 24h or even longer and to gather run to fail data to optimise the regression model. Additionally, other models also could be explored such as anomaly detection machine learning models (Flagging anomalous behaviour) or Survival models for the prediction of failure probability over time.\r\n",
        "\r\n"
      ]
    },
    {
      "cell_type": "markdown",
      "metadata": {
        "id": "pWtpZLXDTMIg"
      },
      "source": [
        "# Reference List and Bibliography"
      ]
    },
    {
      "cell_type": "markdown",
      "metadata": {
        "id": "zrA-IMbvTSqB"
      },
      "source": [
        "Aithority. How to find the right machine learning techniques for predictive maintenance. Available through: website < https://aithority.com/guest-authors/how-to-find-the-right-machine-learning-techniques-for-predictive-maintenance/> [Accessed 23 Dec 2020]\r\n",
        "\r\n",
        "Amruthnath, N.; Gupta, T. A research study on unsupervised machine learning algorithms for early fault detection in predictive maintenance. In Proceedings of the 2018 5th International Conference on Industrial Engineering and Applications, ICIEA, Singapore, 26–28 April 2018; pp. 355–361.\r\n",
        "\r\n",
        "Big Data republic, 2017. Christiansen, Bryan, 201?. A complete guide to predictive maintenance. Available through: website < https://limblecmms.com/blog/predictive-maintenance/> [Accessed 27 Dec 2020]\r\n",
        "\r\n",
        "Brownlee, Jason. How to Use ROC Curves and Precision-Recall Curves for Classification in Python. Available through: website <https://machinelearningmastery.com/roc-curves-and-precision-recall-curves-for-classification-in-python/>. [Accessed 02 Jan 2021]\r\n",
        "\r\n",
        "Busch Vacuum. Cobra Nc0100-0300b. Available through: website < https://www.buschvacuum.com/ie/en/products/cobra-industry/cobra-nc/cobra-nc-0100-0300-b> [Accessed 27 Dec 2020]\r\n",
        "\r\n",
        "Carvalho, T.P.; Soares, F.A.A.M.N.; Vita, R.; Francisco, R.d.P.; Basto, J.P.; Alcalá, S.G.S. A systematic literature review of machine learning methods applied to predictive maintenance. Comput. Ind. Eng. 2019, 137.\r\n",
        "\r\n",
        "Christiansen, Bryan, 201?. A complete guide to predictive maintenance. Available through: website < https://limblecmms.com/blog/predictive-maintenance/> [Accessed 27 Dec 2020]\r\n",
        "\r\n",
        "Colab. Available through: website < https://colab.research.google.com/> [Accessed 24 Dec 2020]\r\n",
        "\r\n",
        "Dataschool. Simple-guide-to-confusion-matrix-terminology. Available through: website < https://www.dataschool.io/simple-guide-to-confusion-matrix-terminology/> [Accessed 02 Dec 2020]\r\n",
        "\r\n",
        "Lavid, Deddy. Who Will Benefit from Maintenance 4.0 Adoption? Available through: website < https://reliabilityweb.com/articles/entry/who-will-benefit-from-maintenance-4.0-adoption > [Accessed 27 Dec 2020]\r\n",
        "\r\n",
        "Machine Learning Mastery. A gentle introduction to scikit learn a python machine learning library. Available through: website <https://machinelearningmastery.com/a-gentle-introduction-to-scikit-learn-a-python-machine-learning-library/> [Accessed 19 Dec 2020]\r\n",
        "\r\n",
        "Matplotlib. Visualization with Python. Available through: website <https://matplotlib.org/> [Accessed 24 Dec 2020]\r\n",
        "\r\n",
        "Mathworks. Predictive maintenance with matlab. Available through: website < https://www.mathworks.com/campaigns/offers/predictive-maintenance-with-matlab.html> [Accessed 15 Dec 2020]\r\n",
        "\r\n",
        "Medium. Machine learning for equipment failure prediction and predictive maintenance PM. Available through: website < https://medium.com/swlh/machine-learning-for-equipment-failure-prediction-and-predictive-maintenance-pm-e72b1ce42da1> [Accessed 17 Nov 2020]\r\n",
        "\r\n",
        "Medium. Machine learning for predictive maintenance: where to start?. Available through: website < https://medium.com/bigdatarepublic/machine-learning-for-predictive-maintenance-where-to-start-5f3b7586acfb/> [Accessed 27 Dec 2020]\r\n",
        "\r\n",
        "Melo, Sandra, 2020. A complete guide to predictive maintenance. Available through: website < https://mydatascope.com/blog/en/a-complete-guide-to-predictive-maintenance/> [Accessed 27 Dec 2020]\r\n",
        "\r\n",
        "Mobley R. K., An introduction to predictive maintenance (2002), 1–6.\r\n",
        "\r\n",
        "Numpy. Absolute beginners. Available through: website <https://numpy.org/devdocs/user/absolute_beginners.html> [Accessed 24 Dec 2020]\r\n",
        "\r\n",
        "Osisoft. PI Data Link. Available through: website <https://techsupport.osisoft.com/Products/Client-Products/PI-DataLink> [Accessed 17 Nov 2020]\r\n",
        "\r\n",
        "Pandas. Getting started. Available through: website <https://pandas.pydata.org/docs/getting_started/overview.html> [Accessed 24 Dec 2020]\r\n",
        "\r\n",
        "Pham, D.T.; Afify, A.A. Machine-learning techniques and their applications in manufacturing. Proc. Inst. Mech. Eng. Part B J. Eng. Manuf. 2005, 219, 395–412. \r\n",
        "\r\n",
        "Predictive maintenance and the digital supply network. Available through: Delloitte Insights website < https://www2.deloitte.com/us/en/insights/focus/industry-4-0/using-predictive-technologies-for-asset-maintenance.html > [Accessed 27 Dec 2020]\r\n",
        "\r\n",
        "Python. Available through: website < https://www.python.org/about/> [Accessed 24 Dec 2020]\r\n",
        "\r\n",
        "Ruiz-Sarmiento, J.R.; Monroy, J.; Moreno, F.A.; Galindo, C.; Bonelo, J.M.; Gonzalez-Jimenez, J. A predictive model for the maintenance of industrial machinery in the context of industry 4.0. Eng. Appl. Artif. Intell. 2020, 87, 103289.\r\n",
        "\r\n",
        "Saito, et al. The Precision-Recall Plot Is More Informative than the ROC Plot When Evaluating Binary Classifiers on Imbalanced Datasets. Available through: website <https://www.ncbi.nlm.nih.gov/pmc/articles/PMC4349800/> [Accessed 02 Jan 2021]\r\n",
        "\r\n",
        "Scikit learn. Available through: website < https://scikit-learn.org/stable/> [Accessed 24 Dec 2020]\r\n",
        "Osisoft. PI system. Available through: website < https://www.osisoft.com/pi-system/> [Accessed 17 Nov 2020]\r\n",
        "\r\n",
        "Seaborn. Statistical data visualization. Available through: website < https://seaborn.pydata.org> [Accessed 24 Dec 2020]\r\n",
        "\r\n",
        "Sommer, Reena, 2020. What is Preventive Maintenance? Available through: website < https://hippocmms.iofficecorp.com/blog/what-is-preventive-maintenance > [Accessed 27 Dec 2020]\r\n",
        "\r\n",
        "Statistics Solutions. Regression Analysis Logistic Regression. Available through: website < https://www.statisticssolutions.com/regression-analysis-logistic-regression/> [Accessed 01 Jan 2021]\r\n",
        "\r\n",
        "Terrence, O, 2017. WHAT IS MAINTENANCE 4.0? Available through: website < https://reliabilityweb.com/what-is-maintenance-4.0> [Accessed 27 Dec 2020]\r\n",
        "\r\n",
        "Towards Data Science. 10 Stages of a machine learning project in 2020. Available through: website < https://towardsdatascience.com/10-stages-of-a-machine-learning-project-in-2020-and-where-you-fit-cb73ad4726cb> [Accessed 01 Jan 2021]\r\n",
        "\r\n",
        "Towards Data Science. Better predictive maintenance using ann. Available through: website < https://towardsdatascience.com/better-predictive-maintenance-using-ann-322752ea3fc5> [Accessed 15 Dec 2020]\r\n",
        "\r\n",
        "Towards Data Science. How to implement machine learning for predictive maintenance. Available through: website < https://towardsdatascience.com/how-to-implement-machine-learning-for-predictive-maintenance-4633cdbe4860> [Accessed 17 Nov 2020]\r\n",
        "\r\n",
        "What is run-to-failure maintenance (RTF)? Available through: Fiix (Rockwell Automation), website < https://www.fiixsoftware.com/run-to-failure-maintenance/ > [Accessed 27 Dec 2020]\r\n",
        "\r\n",
        "Wuest, T.; Weimer, D.; Irgens, C.; Thoben, K.D. Machine learning in manufacturing: Advantages, challenges, and applications. Prod. Manuf. Res. 2016, 4, 23–45.\r\n",
        "\r\n",
        "Zhang, W.; Yang, D.; Wang, H. Data-Driven Methods for Predictive Maintenance of Industrial Equipment: A Survey. IEEE Syst. J. 2019, 13, 2213–2227. \r\n",
        "\r\n"
      ]
    }
  ]
}